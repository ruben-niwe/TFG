{
 "cells": [
  {
   "cell_type": "markdown",
   "metadata": {},
   "source": [
    "En este notebook realizaremos un problema de regresión donde calcularemos el valor de la variable ``trueE`` ya que este valor no se conoce antes de realizar el experimento. Por tanto, realizaremos una regresión para calcularlo y junto al notebook de la clasificación binaria podremos decir lo siguiente:\n",
    "\n",
    "1- Predeciremos entre kaon y pion\n",
    "\n",
    "2- Calcularemos el valor de la variable ``trueE``\n",
    "\n",
    "3- Así podremos decir: 'Esto es un kaon/pion y lo hace con la siguiente energía'"
   ]
  },
  {
   "cell_type": "code",
   "execution_count": 2,
   "metadata": {},
   "outputs": [],
   "source": [
    "import pandas as pd\n",
    "import numpy as np\n",
    "import os"
   ]
  },
  {
   "cell_type": "code",
   "execution_count": 3,
   "metadata": {},
   "outputs": [
    {
     "name": "stdout",
     "output_type": "stream",
     "text": [
      "Directorio actual: C:\\Users\\ruben.morillas\\Desktop\\aaa\n"
     ]
    }
   ],
   "source": [
    "# Cambiar el directorio de trabajo\n",
    "ruta_nueva = 'C:/Users/ruben.morillas/Desktop/aaa/'  # Reemplaza 'TuUsuario' con tu nombre de usuario de Windows\n",
    "os.chdir(ruta_nueva)\n",
    "\n",
    "# Mostrar el directorio actual para confirmar el cambio\n",
    "directorio_actual = os.getcwd()\n",
    "print(\"Directorio actual:\", directorio_actual)"
   ]
  },
  {
   "cell_type": "code",
   "execution_count": 4,
   "metadata": {},
   "outputs": [],
   "source": [
    "# Leemos los datos de train\n",
    "path_actual = os.getcwd()\n",
    "subdirectorio = 'datas'\n",
    "file_train = 'df_train.csv'\n",
    "path_train = os.path.join(path_actual, subdirectorio, file_train)\n",
    "df_train = pd.read_csv(path_train, index_col=None)"
   ]
  },
  {
   "cell_type": "code",
   "execution_count": 5,
   "metadata": {},
   "outputs": [],
   "source": [
    "# Leemos los datos de validacion\n",
    "file_valid = 'df_valid.csv'\n",
    "path_valid = os.path.join(path_actual,subdirectorio, file_valid)\n",
    "df_valid = pd.read_csv(path_valid, index_col=None)"
   ]
  },
  {
   "cell_type": "code",
   "execution_count": 6,
   "metadata": {},
   "outputs": [
    {
     "data": {
      "text/html": [
       "<div>\n",
       "<style scoped>\n",
       "    .dataframe tbody tr th:only-of-type {\n",
       "        vertical-align: middle;\n",
       "    }\n",
       "\n",
       "    .dataframe tbody tr th {\n",
       "        vertical-align: top;\n",
       "    }\n",
       "\n",
       "    .dataframe thead th {\n",
       "        text-align: right;\n",
       "    }\n",
       "</style>\n",
       "<table border=\"1\" class=\"dataframe\">\n",
       "  <thead>\n",
       "    <tr style=\"text-align: right;\">\n",
       "      <th></th>\n",
       "      <th>eventID</th>\n",
       "      <th>PDGcode</th>\n",
       "      <th>trueE</th>\n",
       "      <th>hitX</th>\n",
       "      <th>hitY</th>\n",
       "      <th>hitZ</th>\n",
       "      <th>hitTime</th>\n",
       "      <th>hitInteg</th>\n",
       "    </tr>\n",
       "  </thead>\n",
       "  <tbody>\n",
       "    <tr>\n",
       "      <th>0</th>\n",
       "      <td>1</td>\n",
       "      <td>211</td>\n",
       "      <td>0.381965</td>\n",
       "      <td>13.5922</td>\n",
       "      <td>2.85275</td>\n",
       "      <td>-18.062</td>\n",
       "      <td>1872.38</td>\n",
       "      <td>1655.0600</td>\n",
       "    </tr>\n",
       "    <tr>\n",
       "      <th>1</th>\n",
       "      <td>1</td>\n",
       "      <td>211</td>\n",
       "      <td>0.381965</td>\n",
       "      <td>13.8270</td>\n",
       "      <td>2.79629</td>\n",
       "      <td>-17.893</td>\n",
       "      <td>1878.77</td>\n",
       "      <td>340.1960</td>\n",
       "    </tr>\n",
       "    <tr>\n",
       "      <th>2</th>\n",
       "      <td>1</td>\n",
       "      <td>211</td>\n",
       "      <td>0.381965</td>\n",
       "      <td>13.6746</td>\n",
       "      <td>2.74496</td>\n",
       "      <td>-17.677</td>\n",
       "      <td>1876.82</td>\n",
       "      <td>4047.6200</td>\n",
       "    </tr>\n",
       "    <tr>\n",
       "      <th>3</th>\n",
       "      <td>1</td>\n",
       "      <td>211</td>\n",
       "      <td>0.381965</td>\n",
       "      <td>13.5436</td>\n",
       "      <td>2.71796</td>\n",
       "      <td>-17.580</td>\n",
       "      <td>1878.30</td>\n",
       "      <td>1234.5500</td>\n",
       "    </tr>\n",
       "    <tr>\n",
       "      <th>4</th>\n",
       "      <td>1</td>\n",
       "      <td>211</td>\n",
       "      <td>0.381965</td>\n",
       "      <td>13.3256</td>\n",
       "      <td>2.72527</td>\n",
       "      <td>-17.542</td>\n",
       "      <td>1868.97</td>\n",
       "      <td>1394.2800</td>\n",
       "    </tr>\n",
       "    <tr>\n",
       "      <th>...</th>\n",
       "      <td>...</td>\n",
       "      <td>...</td>\n",
       "      <td>...</td>\n",
       "      <td>...</td>\n",
       "      <td>...</td>\n",
       "      <td>...</td>\n",
       "      <td>...</td>\n",
       "      <td>...</td>\n",
       "    </tr>\n",
       "    <tr>\n",
       "      <th>11612552</th>\n",
       "      <td>19999</td>\n",
       "      <td>321</td>\n",
       "      <td>0.511779</td>\n",
       "      <td>-26.7600</td>\n",
       "      <td>9.41895</td>\n",
       "      <td>45.739</td>\n",
       "      <td>1362.47</td>\n",
       "      <td>1825.6700</td>\n",
       "    </tr>\n",
       "    <tr>\n",
       "      <th>11612553</th>\n",
       "      <td>19999</td>\n",
       "      <td>321</td>\n",
       "      <td>0.511779</td>\n",
       "      <td>-26.8500</td>\n",
       "      <td>9.43314</td>\n",
       "      <td>45.757</td>\n",
       "      <td>1358.16</td>\n",
       "      <td>1862.7900</td>\n",
       "    </tr>\n",
       "    <tr>\n",
       "      <th>11612554</th>\n",
       "      <td>19999</td>\n",
       "      <td>321</td>\n",
       "      <td>0.511779</td>\n",
       "      <td>-26.8780</td>\n",
       "      <td>9.51059</td>\n",
       "      <td>46.057</td>\n",
       "      <td>1360.96</td>\n",
       "      <td>1586.2400</td>\n",
       "    </tr>\n",
       "    <tr>\n",
       "      <th>11612555</th>\n",
       "      <td>19999</td>\n",
       "      <td>321</td>\n",
       "      <td>0.511779</td>\n",
       "      <td>-26.9210</td>\n",
       "      <td>9.52140</td>\n",
       "      <td>46.063</td>\n",
       "      <td>1357.25</td>\n",
       "      <td>388.8380</td>\n",
       "    </tr>\n",
       "    <tr>\n",
       "      <th>11612556</th>\n",
       "      <td>19999</td>\n",
       "      <td>321</td>\n",
       "      <td>0.511779</td>\n",
       "      <td>-26.9500</td>\n",
       "      <td>9.57917</td>\n",
       "      <td>46.294</td>\n",
       "      <td>1360.04</td>\n",
       "      <td>80.6368</td>\n",
       "    </tr>\n",
       "  </tbody>\n",
       "</table>\n",
       "<p>11612557 rows × 8 columns</p>\n",
       "</div>"
      ],
      "text/plain": [
       "          eventID  PDGcode     trueE     hitX     hitY    hitZ  hitTime  \\\n",
       "0               1      211  0.381965  13.5922  2.85275 -18.062  1872.38   \n",
       "1               1      211  0.381965  13.8270  2.79629 -17.893  1878.77   \n",
       "2               1      211  0.381965  13.6746  2.74496 -17.677  1876.82   \n",
       "3               1      211  0.381965  13.5436  2.71796 -17.580  1878.30   \n",
       "4               1      211  0.381965  13.3256  2.72527 -17.542  1868.97   \n",
       "...           ...      ...       ...      ...      ...     ...      ...   \n",
       "11612552    19999      321  0.511779 -26.7600  9.41895  45.739  1362.47   \n",
       "11612553    19999      321  0.511779 -26.8500  9.43314  45.757  1358.16   \n",
       "11612554    19999      321  0.511779 -26.8780  9.51059  46.057  1360.96   \n",
       "11612555    19999      321  0.511779 -26.9210  9.52140  46.063  1357.25   \n",
       "11612556    19999      321  0.511779 -26.9500  9.57917  46.294  1360.04   \n",
       "\n",
       "           hitInteg  \n",
       "0         1655.0600  \n",
       "1          340.1960  \n",
       "2         4047.6200  \n",
       "3         1234.5500  \n",
       "4         1394.2800  \n",
       "...             ...  \n",
       "11612552  1825.6700  \n",
       "11612553  1862.7900  \n",
       "11612554  1586.2400  \n",
       "11612555   388.8380  \n",
       "11612556    80.6368  \n",
       "\n",
       "[11612557 rows x 8 columns]"
      ]
     },
     "execution_count": 6,
     "metadata": {},
     "output_type": "execute_result"
    }
   ],
   "source": [
    "df_train"
   ]
  },
  {
   "cell_type": "code",
   "execution_count": 7,
   "metadata": {},
   "outputs": [
    {
     "data": {
      "text/html": [
       "<div>\n",
       "<style scoped>\n",
       "    .dataframe tbody tr th:only-of-type {\n",
       "        vertical-align: middle;\n",
       "    }\n",
       "\n",
       "    .dataframe tbody tr th {\n",
       "        vertical-align: top;\n",
       "    }\n",
       "\n",
       "    .dataframe thead th {\n",
       "        text-align: right;\n",
       "    }\n",
       "</style>\n",
       "<table border=\"1\" class=\"dataframe\">\n",
       "  <thead>\n",
       "    <tr style=\"text-align: right;\">\n",
       "      <th></th>\n",
       "      <th>eventID</th>\n",
       "      <th>PDGcode</th>\n",
       "      <th>trueE</th>\n",
       "      <th>hitX</th>\n",
       "      <th>hitY</th>\n",
       "      <th>hitZ</th>\n",
       "      <th>hitTime</th>\n",
       "      <th>hitInteg</th>\n",
       "    </tr>\n",
       "  </thead>\n",
       "  <tbody>\n",
       "    <tr>\n",
       "      <th>0</th>\n",
       "      <td>0</td>\n",
       "      <td>211</td>\n",
       "      <td>0.258707</td>\n",
       "      <td>-0.0020</td>\n",
       "      <td>-0.173207</td>\n",
       "      <td>0.2</td>\n",
       "      <td>1704.94</td>\n",
       "      <td>318.992</td>\n",
       "    </tr>\n",
       "    <tr>\n",
       "      <th>1</th>\n",
       "      <td>0</td>\n",
       "      <td>211</td>\n",
       "      <td>0.258707</td>\n",
       "      <td>0.0000</td>\n",
       "      <td>0.000000</td>\n",
       "      <td>0.5</td>\n",
       "      <td>1704.96</td>\n",
       "      <td>346.856</td>\n",
       "    </tr>\n",
       "    <tr>\n",
       "      <th>2</th>\n",
       "      <td>0</td>\n",
       "      <td>211</td>\n",
       "      <td>0.258707</td>\n",
       "      <td>0.0024</td>\n",
       "      <td>0.000000</td>\n",
       "      <td>0.7</td>\n",
       "      <td>1704.99</td>\n",
       "      <td>592.421</td>\n",
       "    </tr>\n",
       "    <tr>\n",
       "      <th>3</th>\n",
       "      <td>0</td>\n",
       "      <td>211</td>\n",
       "      <td>0.258707</td>\n",
       "      <td>0.0067</td>\n",
       "      <td>-0.346409</td>\n",
       "      <td>0.7</td>\n",
       "      <td>1698.51</td>\n",
       "      <td>1070.020</td>\n",
       "    </tr>\n",
       "    <tr>\n",
       "      <th>4</th>\n",
       "      <td>0</td>\n",
       "      <td>211</td>\n",
       "      <td>0.258707</td>\n",
       "      <td>0.0036</td>\n",
       "      <td>-0.519616</td>\n",
       "      <td>0.8</td>\n",
       "      <td>1698.47</td>\n",
       "      <td>889.101</td>\n",
       "    </tr>\n",
       "    <tr>\n",
       "      <th>...</th>\n",
       "      <td>...</td>\n",
       "      <td>...</td>\n",
       "      <td>...</td>\n",
       "      <td>...</td>\n",
       "      <td>...</td>\n",
       "      <td>...</td>\n",
       "      <td>...</td>\n",
       "      <td>...</td>\n",
       "    </tr>\n",
       "    <tr>\n",
       "      <th>3267899</th>\n",
       "      <td>19997</td>\n",
       "      <td>321</td>\n",
       "      <td>0.500785</td>\n",
       "      <td>1.9472</td>\n",
       "      <td>-12.124400</td>\n",
       "      <td>4.7</td>\n",
       "      <td>1726.72</td>\n",
       "      <td>357.400</td>\n",
       "    </tr>\n",
       "    <tr>\n",
       "      <th>3267900</th>\n",
       "      <td>19997</td>\n",
       "      <td>321</td>\n",
       "      <td>0.500785</td>\n",
       "      <td>1.9682</td>\n",
       "      <td>-12.817200</td>\n",
       "      <td>4.7</td>\n",
       "      <td>1723.61</td>\n",
       "      <td>338.582</td>\n",
       "    </tr>\n",
       "    <tr>\n",
       "      <th>3267901</th>\n",
       "      <td>19997</td>\n",
       "      <td>321</td>\n",
       "      <td>0.500785</td>\n",
       "      <td>2.0054</td>\n",
       "      <td>-12.470800</td>\n",
       "      <td>4.7</td>\n",
       "      <td>1727.47</td>\n",
       "      <td>333.317</td>\n",
       "    </tr>\n",
       "    <tr>\n",
       "      <th>3267902</th>\n",
       "      <td>19997</td>\n",
       "      <td>321</td>\n",
       "      <td>0.500785</td>\n",
       "      <td>1.6111</td>\n",
       "      <td>-13.683200</td>\n",
       "      <td>4.8</td>\n",
       "      <td>1719.04</td>\n",
       "      <td>368.375</td>\n",
       "    </tr>\n",
       "    <tr>\n",
       "      <th>3267903</th>\n",
       "      <td>19997</td>\n",
       "      <td>321</td>\n",
       "      <td>0.500785</td>\n",
       "      <td>1.7599</td>\n",
       "      <td>-10.565500</td>\n",
       "      <td>4.8</td>\n",
       "      <td>1724.33</td>\n",
       "      <td>129.447</td>\n",
       "    </tr>\n",
       "  </tbody>\n",
       "</table>\n",
       "<p>3267904 rows × 8 columns</p>\n",
       "</div>"
      ],
      "text/plain": [
       "         eventID  PDGcode     trueE    hitX       hitY  hitZ  hitTime  \\\n",
       "0              0      211  0.258707 -0.0020  -0.173207   0.2  1704.94   \n",
       "1              0      211  0.258707  0.0000   0.000000   0.5  1704.96   \n",
       "2              0      211  0.258707  0.0024   0.000000   0.7  1704.99   \n",
       "3              0      211  0.258707  0.0067  -0.346409   0.7  1698.51   \n",
       "4              0      211  0.258707  0.0036  -0.519616   0.8  1698.47   \n",
       "...          ...      ...       ...     ...        ...   ...      ...   \n",
       "3267899    19997      321  0.500785  1.9472 -12.124400   4.7  1726.72   \n",
       "3267900    19997      321  0.500785  1.9682 -12.817200   4.7  1723.61   \n",
       "3267901    19997      321  0.500785  2.0054 -12.470800   4.7  1727.47   \n",
       "3267902    19997      321  0.500785  1.6111 -13.683200   4.8  1719.04   \n",
       "3267903    19997      321  0.500785  1.7599 -10.565500   4.8  1724.33   \n",
       "\n",
       "         hitInteg  \n",
       "0         318.992  \n",
       "1         346.856  \n",
       "2         592.421  \n",
       "3        1070.020  \n",
       "4         889.101  \n",
       "...           ...  \n",
       "3267899   357.400  \n",
       "3267900   338.582  \n",
       "3267901   333.317  \n",
       "3267902   368.375  \n",
       "3267903   129.447  \n",
       "\n",
       "[3267904 rows x 8 columns]"
      ]
     },
     "execution_count": 7,
     "metadata": {},
     "output_type": "execute_result"
    }
   ],
   "source": [
    "df_valid"
   ]
  },
  {
   "cell_type": "markdown",
   "metadata": {},
   "source": [
    "## 0.- Tipos de modelos para el entrenamiento"
   ]
  },
  {
   "cell_type": "markdown",
   "metadata": {},
   "source": [
    "*   **Regresión Lineal**: Modelo básico que intenta predecir una variable objetivo mediante una combinación lineal de las variables independientes\n",
    "*   **Regresion Ridge**: Extiende la regresión lineal añadiendo una penalización L2 (la suma de los cuadrados de los coeficientes) a la función de perdida\n",
    "*   **Regresión Lasso**: Similar a Ridge, pero añade una penalización L1 (la suma de los valores absolutos de los coeficientes),  lo que resulta en modelos con menos coeficientes no cero.\n",
    "*   **Elastic Net**: Combina las penalizaciones de Ridge y Lasso, útil cuando hay múltiples características que están correlacionadas.\n",
    "*   **Arboles de decisión para Regresión**: Utiliza un modelo de árbol de decisión para capturar relaciones no lineales en los datos\n",
    "*   **Random Forest para Regresión**: Un ensamble de árboles de decisión, típicamente más robusto y preciso que un solo árbol.\n",
    "*   **Gradient Boosting para Regresión**: Construye un modelo aditivo de manera progresiva y es efectivo para modelos complejos.\n",
    "*   **SVR**: Extensión de las máquinas de soporte vectorial para regresión, intenta ajustar el error dentro de un umbral determinado\n",
    "*   **K-Nearest Neighbors Regressor**: Predice el valor de la variable dependiente usando el promedio o la mediana de los k vecinos más cercanos\n",
    "*   **Regresión Bayesiana Ridge**: Variante bayesiana de la regresión Ridge, proporciona una estimación probabilística de los parámetros del modelo\n",
    "*   **Regresión de Vectores de Soporte Lineal**: Una versión más rápida de SVR para grandes conjuntos de datos con una relación lineal\n",
    "*   **Stochastic Gradient Descent for Regression**: Utiliza el descenso de gradiente estocástico para encontrar los coeficientes, útil para cojuntos de datos grandes"
   ]
  },
  {
   "cell_type": "markdown",
   "metadata": {},
   "source": [
    "## 1.- Entrenamiento de distintos modelos para la regresión"
   ]
  },
  {
   "cell_type": "markdown",
   "metadata": {},
   "source": [
    "### 1.1.- Entrenamiento con el desconocimiento del kaon o pion"
   ]
  },
  {
   "cell_type": "markdown",
   "metadata": {},
   "source": [
    "Aqui le pasaremos al modelo todos los datos que le pasabamos al problema de la clasificación binaria y el modelo no conocerá si es un kaon o un pion"
   ]
  },
  {
   "cell_type": "code",
   "execution_count": 8,
   "metadata": {},
   "outputs": [],
   "source": [
    "def filtrado_datos_energia(df, N):\n",
    "    kaones = []\n",
    "    labels = []\n",
    "    valores_trueE = []  # Usamos un conjunto para almacenar valores únicos de trueE\n",
    "\n",
    "    df_sorted = df.sort_values(by=['eventID', 'hitTime'], ascending=[True, False])\n",
    "\n",
    "    for eventID, grupo in df_sorted.groupby('eventID'):\n",
    "        pdgCodes = grupo['PDGcode'].unique()\n",
    "\n",
    "        for pdgCode in pdgCodes:\n",
    "            grupo_filtrado = grupo[grupo['PDGcode'] == pdgCode]\n",
    "            grupo_ordenado = grupo_filtrado.head(N)\n",
    "\n",
    "            # Obtener el valor de 'trueE' para el evento actual\n",
    "            trueE_value = grupo_filtrado['trueE'].iloc[0]\n",
    "\n",
    "            # Almacenar el valor de trueE en el conjunto\n",
    "            valores_trueE.append(trueE_value)\n",
    "\n",
    "            # Inicializar arrays para el padding\n",
    "            hitX_padded = np.zeros(N)\n",
    "            hitY_padded = np.zeros(N)\n",
    "            hitZ_padded = np.zeros(N)\n",
    "            hitInteg_padded = np.zeros(N)\n",
    "\n",
    "            # Separar y aplicar padding a los valores de hitX, hitY, hitZ, hitInteg\n",
    "            hitX_padded[:len(grupo_ordenado['hitX'])] = grupo_ordenado['hitX']\n",
    "            hitY_padded[:len(grupo_ordenado['hitY'])] = grupo_ordenado['hitY']\n",
    "            hitZ_padded[:len(grupo_ordenado['hitZ'])] = grupo_ordenado['hitZ']\n",
    "            hitInteg_padded[:len(grupo_ordenado['hitInteg'])] = grupo_ordenado['hitInteg']\n",
    "\n",
    "            # Concatenar los valores ya con el padding aplicado, añadiendo 'trueE' al principio\n",
    "            hit_values_reorganized = np.concatenate([[trueE_value], hitX_padded, hitY_padded, hitZ_padded, hitInteg_padded])\n",
    "\n",
    "            kaones.append(hit_values_reorganized)\n",
    "\n",
    "            # Modificar las etiquetas de 211 a 0 y de 321 a 1\n",
    "            if pdgCode == 211:\n",
    "                labels.append(0)\n",
    "            elif pdgCode == 321:\n",
    "                labels.append(1)\n",
    "\n",
    "    return np.array(kaones), np.array(labels), np.array(list(valores_trueE))\n",
    "\n",
    "def filtrado_datos(df, N):\n",
    "    kaones = []\n",
    "    labels = []\n",
    "\n",
    "    df_sorted = df.sort_values(by=['eventID', 'hitTime'], ascending=[True, False])\n",
    "\n",
    "    for eventID, grupo in df_sorted.groupby('eventID'):\n",
    "        pdgCodes = grupo['PDGcode'].unique()\n",
    "\n",
    "        for pdgCode in pdgCodes:\n",
    "            grupo_filtrado = grupo[grupo['PDGcode'] == pdgCode]\n",
    "            grupo_ordenado = grupo_filtrado.head(N)\n",
    "\n",
    "            # Inicializar arrays para el padding\n",
    "            hitX_padded = np.zeros(N)\n",
    "            hitY_padded = np.zeros(N)\n",
    "            hitZ_padded = np.zeros(N)\n",
    "            hitInteg_padded = np.zeros(N)\n",
    "\n",
    "            # Separar y aplicar padding a los valores de hitX, hitY, hitZ, hitInteg\n",
    "            hitX_padded[:len(grupo_ordenado['hitX'])] = grupo_ordenado['hitX']\n",
    "            hitY_padded[:len(grupo_ordenado['hitY'])] = grupo_ordenado['hitY']\n",
    "            hitZ_padded[:len(grupo_ordenado['hitZ'])] = grupo_ordenado['hitZ']\n",
    "            hitInteg_padded[:len(grupo_ordenado['hitInteg'])] = grupo_ordenado['hitInteg']\n",
    "\n",
    "            # Concatenar los valores ya con el padding aplicado\n",
    "            hit_values_reorganized = np.concatenate([hitX_padded, hitY_padded, hitZ_padded, hitInteg_padded])\n",
    "\n",
    "            kaones.append(hit_values_reorganized)\n",
    "\n",
    "            # Modificar las etiquetas de 211 a 0 y de 321 a 1\n",
    "            if pdgCode == 211:\n",
    "                labels.append(0)\n",
    "            elif pdgCode == 321:\n",
    "                labels.append(1)\n",
    "\n",
    "    return np.array(kaones), np.array(labels)"
   ]
  },
  {
   "cell_type": "code",
   "execution_count": 9,
   "metadata": {},
   "outputs": [],
   "source": [
    "N=760\n",
    "X_train, etiqueta_particula_train, trueE_train = filtrado_datos_energia(df_train, N)\n",
    "X_train = X_train[:, 1:]"
   ]
  },
  {
   "cell_type": "code",
   "execution_count": 10,
   "metadata": {},
   "outputs": [],
   "source": [
    "X_valid, etiqueta_particula_valid, trueE_valid = filtrado_datos_energia(df_valid, N)\n",
    "X_valid = X_valid[:, 1:]\n"
   ]
  },
  {
   "cell_type": "markdown",
   "metadata": {},
   "source": [
    "#### funcion para calcular los errores"
   ]
  },
  {
   "cell_type": "code",
   "execution_count": 11,
   "metadata": {},
   "outputs": [],
   "source": [
    "from sklearn.metrics import mean_squared_error, mean_absolute_error, r2_score\n",
    "\n",
    "def scores_errors(etiquetas_reales, etiquetas_predecidas):\n",
    "    mse = mean_squared_error(etiquetas_reales, etiquetas_predecidas)\n",
    "    mae = mean_absolute_error(etiquetas_reales, etiquetas_predecidas)\n",
    "    r2 = r2_score(etiquetas_reales, etiquetas_predecidas)\n",
    "    return mse, mae, r2\n"
   ]
  },
  {
   "cell_type": "markdown",
   "metadata": {},
   "source": [
    "#### Linear Regresion"
   ]
  },
  {
   "cell_type": "code",
   "execution_count": 13,
   "metadata": {},
   "outputs": [],
   "source": [
    "from sklearn.linear_model import LinearRegression\n",
    "from sklearn.model_selection import GridSearchCV\n",
    "\n",
    "\n",
    "param_grid_linear_regresion={\n",
    "    'fit_intercept' : [True, False],\n",
    "    'copy_X' : [True, False],\n",
    "    'positive' : [True,False]\n",
    "}\n",
    "\n",
    "grid_search = GridSearchCV(estimator=LinearRegression(), param_grid=param_grid_linear_regresion)\n",
    "grid_search.fit(X_train, trueE_train)\n",
    "print(grid_search.best_params_)\n"
   ]
  },
  {
   "cell_type": "code",
   "execution_count": 11,
   "metadata": {},
   "outputs": [
    {
     "name": "stdout",
     "output_type": "stream",
     "text": [
      "Mean Squared Error: 0.011382157128317126\n",
      "Mean Abosolute Error: 0.08318043902206823\n",
      "R2 score: 0.622435218114979\n"
     ]
    }
   ],
   "source": [
    "model_linear_regresion = LinearRegression(fit_intercept=True, copy_X=True, positive=False).fit(X_train, trueE_train)\n",
    "y_pred = model_linear_regresion.predict(X_valid)\n",
    "\n",
    "mse, mae, r2 = scores_errors(trueE_valid, y_pred)\n",
    "print(\"Mean Squared Error:\", mse)\n",
    "print(\"Mean Abosolute Error:\", mae)\n",
    "print(\"R2 score:\", r2)"
   ]
  },
  {
   "cell_type": "code",
   "execution_count": 12,
   "metadata": {},
   "outputs": [
    {
     "name": "stdout",
     "output_type": "stream",
     "text": [
      "Predicción aislada\n",
      "Valor real 0.496129\n",
      "Valor prededecido 0.44959877305098006\n"
     ]
    }
   ],
   "source": [
    "print('Predicción aislada')\n",
    "print('Valor real', trueE_valid[100])\n",
    "print('Valor prededecido', y_pred[100])"
   ]
  },
  {
   "cell_type": "markdown",
   "metadata": {},
   "source": [
    "#### Ridge"
   ]
  },
  {
   "cell_type": "code",
   "execution_count": 13,
   "metadata": {},
   "outputs": [
    {
     "name": "stdout",
     "output_type": "stream",
     "text": [
      "Mean Squared Error: 0.011382074880462757\n",
      "Mean Abosolute Error: 0.08318026284116473\n",
      "R2 score: 0.6224379464109291\n"
     ]
    }
   ],
   "source": [
    "from sklearn.linear_model import Ridge\n",
    "\n",
    "model_ridge = Ridge().fit(X_train, trueE_train)\n",
    "y_pred = model_ridge.predict(X_valid)\n",
    "\n",
    "mse, mae, r2 = scores_errors(trueE_valid, y_pred)\n",
    "print(\"Mean Squared Error:\", mse)\n",
    "print(\"Mean Abosolute Error:\", mae)\n",
    "print(\"R2 score:\", r2)\n"
   ]
  },
  {
   "cell_type": "code",
   "execution_count": 14,
   "metadata": {},
   "outputs": [
    {
     "name": "stdout",
     "output_type": "stream",
     "text": [
      "Predicción aislada\n",
      "Valor real 0.496129\n",
      "Valor prededecido 0.44959783084798627\n"
     ]
    }
   ],
   "source": [
    "print('Predicción aislada')\n",
    "print('Valor real', trueE_valid[100])\n",
    "print('Valor prededecido', y_pred[100])"
   ]
  },
  {
   "cell_type": "markdown",
   "metadata": {},
   "source": [
    "#### Lasso"
   ]
  },
  {
   "cell_type": "code",
   "execution_count": 15,
   "metadata": {},
   "outputs": [
    {
     "name": "stdout",
     "output_type": "stream",
     "text": [
      "Mean Squared Error: 0.011475669983184857\n",
      "Mean Abosolute Error: 0.08505781171050696\n",
      "R2 score: 0.6193332436602652\n"
     ]
    }
   ],
   "source": [
    "from sklearn.linear_model import Lasso\n",
    "\n",
    "model_lasso = Lasso().fit(X_train, trueE_train)\n",
    "y_pred = model_lasso.predict(X_valid)\n",
    "\n",
    "mse, mae, r2 = scores_errors(trueE_valid, y_pred)\n",
    "print(\"Mean Squared Error:\", mse)\n",
    "print(\"Mean Abosolute Error:\", mae)\n",
    "print(\"R2 score:\", r2)\n"
   ]
  },
  {
   "cell_type": "code",
   "execution_count": 16,
   "metadata": {},
   "outputs": [
    {
     "name": "stdout",
     "output_type": "stream",
     "text": [
      "Predicción aislada\n",
      "Valor real 0.496129\n",
      "Valor prededecido 0.43483632373270803\n"
     ]
    }
   ],
   "source": [
    "print('Predicción aislada')\n",
    "print('Valor real', trueE_valid[100])\n",
    "print('Valor prededecido', y_pred[100])"
   ]
  },
  {
   "cell_type": "markdown",
   "metadata": {},
   "source": [
    "#### Elastic Net"
   ]
  },
  {
   "cell_type": "code",
   "execution_count": 17,
   "metadata": {},
   "outputs": [
    {
     "name": "stdout",
     "output_type": "stream",
     "text": [
      "Mean Squared Error: 0.01146273264488675\n",
      "Mean Abosolute Error: 0.08470316124633308\n",
      "R2 score: 0.6197623963470212\n"
     ]
    }
   ],
   "source": [
    "from sklearn.linear_model import ElasticNet\n",
    "\n",
    "model_elastic_net = ElasticNet().fit(X_train, trueE_train)\n",
    "y_pred = model_elastic_net.predict(X_valid)\n",
    "\n",
    "mse, mae, r2 = scores_errors(trueE_valid, y_pred)\n",
    "print(\"Mean Squared Error:\", mse)\n",
    "print(\"Mean Abosolute Error:\", mae)\n",
    "print(\"R2 score:\", r2)"
   ]
  },
  {
   "cell_type": "code",
   "execution_count": 18,
   "metadata": {},
   "outputs": [
    {
     "name": "stdout",
     "output_type": "stream",
     "text": [
      "Predicción aislada\n",
      "Valor real 0.496129\n",
      "Valor prededecido 0.4334752091236372\n"
     ]
    }
   ],
   "source": [
    "print('Predicción aislada')\n",
    "print('Valor real', trueE_valid[100])\n",
    "print('Valor prededecido', y_pred[100])"
   ]
  },
  {
   "cell_type": "markdown",
   "metadata": {},
   "source": [
    "#### Polinomial Features"
   ]
  },
  {
   "cell_type": "code",
   "execution_count": 19,
   "metadata": {},
   "outputs": [
    {
     "name": "stdout",
     "output_type": "stream",
     "text": [
      "Mean Squared Error: 0.014445068484888354\n",
      "Mean Abosolute Error: 0.07468906754530479\n",
      "R2 score: 0.520833435145396\n"
     ]
    }
   ],
   "source": [
    "from sklearn.tree import DecisionTreeRegressor\n",
    "\n",
    "model_decision_tree = DecisionTreeRegressor().fit(X_train, trueE_train)\n",
    "y_pred = model_decision_tree.predict(X_valid)\n",
    "\n",
    "mse, mae, r2 = scores_errors(trueE_valid, y_pred)\n",
    "print(\"Mean Squared Error:\", mse)\n",
    "print(\"Mean Abosolute Error:\", mae)\n",
    "print(\"R2 score:\", r2)\n"
   ]
  },
  {
   "cell_type": "code",
   "execution_count": 20,
   "metadata": {},
   "outputs": [
    {
     "name": "stdout",
     "output_type": "stream",
     "text": [
      "Predicción aislada\n",
      "Valor real 0.496129\n",
      "Valor prededecido 0.493809\n"
     ]
    }
   ],
   "source": [
    "print('Predicción aislada')\n",
    "print('Valor real', trueE_valid[100])\n",
    "print('Valor prededecido', y_pred[100])"
   ]
  },
  {
   "cell_type": "markdown",
   "metadata": {},
   "source": [
    "#### Suport Vector Regression"
   ]
  },
  {
   "cell_type": "code",
   "execution_count": 40,
   "metadata": {},
   "outputs": [
    {
     "name": "stdout",
     "output_type": "stream",
     "text": [
      "Mean Squared Error: 0.01702453199406248\n",
      "Mean Abosolute Error: 0.10026350987200608\n",
      "R2 score: 0.43526840856543925\n"
     ]
    }
   ],
   "source": [
    "from sklearn.neighbors import KNeighborsRegressor\n",
    "\n",
    "model_KNN = KNeighborsRegressor().fit(X_train, trueE_train)\n",
    "y_pred = model_KNN.predict(X_valid)\n",
    "\n",
    "mse, mae, r2 = scores_errors(trueE_valid, y_pred)\n",
    "print(\"Mean Squared Error:\", mse)\n",
    "print(\"Mean Abosolute Error:\", mae)\n",
    "print(\"R2 score:\", r2)"
   ]
  },
  {
   "cell_type": "code",
   "execution_count": 41,
   "metadata": {},
   "outputs": [
    {
     "name": "stdout",
     "output_type": "stream",
     "text": [
      "Predicción aislada\n",
      "Valor real 0.496129\n",
      "Valor prededecido 0.27581500000000003\n"
     ]
    }
   ],
   "source": [
    "print('Predicción aislada')\n",
    "print('Valor real', trueE_valid[100])\n",
    "print('Valor prededecido', y_pred[100])"
   ]
  },
  {
   "cell_type": "markdown",
   "metadata": {},
   "source": [
    "### Bayesian Ridge Regression"
   ]
  },
  {
   "cell_type": "code",
   "execution_count": 42,
   "metadata": {},
   "outputs": [
    {
     "name": "stdout",
     "output_type": "stream",
     "text": [
      "Mean Squared Error: 0.009276232145118208\n",
      "Mean Abosolute Error: 0.07605977736937516\n",
      "R2 score: 0.6922921967161237\n"
     ]
    }
   ],
   "source": [
    "from sklearn.linear_model import BayesianRidge\n",
    "\n",
    "model_bayesian_ridge = BayesianRidge().fit(X_train, trueE_train)\n",
    "y_pred = model_bayesian_ridge.predict(X_valid)\n",
    "\n",
    "mse, mae, r2 = scores_errors(trueE_valid, y_pred)\n",
    "print(\"Mean Squared Error:\", mse)\n",
    "print(\"Mean Abosolute Error:\", mae)\n",
    "print(\"R2 score:\", r2)"
   ]
  },
  {
   "cell_type": "code",
   "execution_count": 43,
   "metadata": {},
   "outputs": [
    {
     "name": "stdout",
     "output_type": "stream",
     "text": [
      "Predicción aislada\n",
      "Valor real 0.496129\n",
      "Valor prededecido 0.4247767377111192\n"
     ]
    }
   ],
   "source": [
    "print('Predicción aislada')\n",
    "print('Valor real', trueE_valid[100])\n",
    "print('Valor prededecido', y_pred[100])"
   ]
  },
  {
   "cell_type": "markdown",
   "metadata": {},
   "source": [
    "#### Regression de vectores de Soporte Vital"
   ]
  },
  {
   "cell_type": "code",
   "execution_count": 44,
   "metadata": {},
   "outputs": [
    {
     "name": "stderr",
     "output_type": "stream",
     "text": [
      "C:\\Users\\ruben.morillas\\AppData\\Local\\anaconda3\\Lib\\site-packages\\sklearn\\svm\\_classes.py:32: FutureWarning: The default value of `dual` will change from `True` to `'auto'` in 1.5. Set the value of `dual` explicitly to suppress the warning.\n",
      "  warnings.warn(\n"
     ]
    },
    {
     "name": "stdout",
     "output_type": "stream",
     "text": [
      "Mean Squared Error: 0.0364748629387129\n",
      "Mean Abosolute Error: 0.14571145022913656\n",
      "R2 score: -0.2099309045277018\n"
     ]
    },
    {
     "name": "stderr",
     "output_type": "stream",
     "text": [
      "C:\\Users\\ruben.morillas\\AppData\\Local\\anaconda3\\Lib\\site-packages\\sklearn\\svm\\_base.py:1242: ConvergenceWarning: Liblinear failed to converge, increase the number of iterations.\n",
      "  warnings.warn(\n"
     ]
    }
   ],
   "source": [
    "from sklearn.svm import LinearSVR\n",
    "\n",
    "model_linearSVR = LinearSVR().fit(X_train, trueE_train)\n",
    "y_pred = model_linearSVR.predict(X_valid)\n",
    "\n",
    "mse, mae, r2 = scores_errors(trueE_valid, y_pred)\n",
    "print(\"Mean Squared Error:\", mse)\n",
    "print(\"Mean Abosolute Error:\", mae)\n",
    "print(\"R2 score:\", r2)"
   ]
  },
  {
   "cell_type": "code",
   "execution_count": 45,
   "metadata": {},
   "outputs": [
    {
     "name": "stdout",
     "output_type": "stream",
     "text": [
      "Predicción aislada\n",
      "Valor real 0.496129\n",
      "Valor prededecido 0.5403938243362615\n"
     ]
    }
   ],
   "source": [
    "print('Predicción aislada')\n",
    "print('Valor real', trueE_valid[100])\n",
    "print('Valor prededecido', y_pred[100])"
   ]
  },
  {
   "cell_type": "markdown",
   "metadata": {},
   "source": [
    "#### Stochastic Gradiente Descent for Regresion"
   ]
  },
  {
   "cell_type": "code",
   "execution_count": 46,
   "metadata": {},
   "outputs": [
    {
     "name": "stdout",
     "output_type": "stream",
     "text": [
      "Mean Squared Error: 3.2055295352001235e+33\n",
      "Mean Abosolute Error: 4.190716171170152e+16\n",
      "R2 score: -1.0633266138742642e+35\n"
     ]
    }
   ],
   "source": [
    "from sklearn.linear_model import SGDRegressor\n",
    "\n",
    "model_SGD = SGDRegressor().fit(X_train, trueE_train)\n",
    "y_pred = model_SGD.predict(X_valid)\n",
    "\n",
    "mse, mae, r2 = scores_errors(trueE_valid, y_pred)\n",
    "print(\"Mean Squared Error:\", mse)\n",
    "print(\"Mean Abosolute Error:\", mae)\n",
    "print(\"R2 score:\", r2)"
   ]
  },
  {
   "cell_type": "code",
   "execution_count": 47,
   "metadata": {},
   "outputs": [
    {
     "name": "stdout",
     "output_type": "stream",
     "text": [
      "Predicción aislada\n",
      "Valor real 0.496129\n",
      "Valor prededecido -3.818594678633532e+16\n"
     ]
    }
   ],
   "source": [
    "print('Predicción aislada')\n",
    "print('Valor real', trueE_valid[100])\n",
    "print('Valor prededecido', y_pred[100])"
   ]
  },
  {
   "cell_type": "markdown",
   "metadata": {},
   "source": [
    "### 1.2.- Entrenamiento conociendo si la particula es kaon/pion, por prediccion"
   ]
  },
  {
   "cell_type": "markdown",
   "metadata": {},
   "source": [
    "Para ello deberemos pedirle a nuestro modelo de clasificación binaria que nos prediga si el evento corresponde al de una particula kaon o al de una particula pion"
   ]
  },
  {
   "cell_type": "code",
   "execution_count": 48,
   "metadata": {},
   "outputs": [],
   "source": [
    "import joblib\n",
    "## Leemos el modelo\n",
    "\n",
    "model_binary = joblib.load('model_binary.pkl')"
   ]
  },
  {
   "cell_type": "code",
   "execution_count": 54,
   "metadata": {},
   "outputs": [],
   "source": [
    "predicciones_particula_train = model_binary.predict(X_train)\n",
    "predicciones_particula_valid = model_binary.predict(X_valid)"
   ]
  },
  {
   "cell_type": "code",
   "execution_count": 55,
   "metadata": {},
   "outputs": [],
   "source": [
    "# Asegúrate de que predicciones_particula_train sea una matriz unidimensional\n",
    "predicciones_particula_train = np.reshape(predicciones_particula_train, (-1, 1))\n",
    "predicciones_particula_valid = np.reshape(predicciones_particula_valid, (-1, 1))\n",
    "\n",
    "# Añadir la columna de predicciones a X_train\n",
    "X_train_con_predicciones = np.column_stack((X_train, predicciones_particula_train))\n",
    "X_valid_con_predicciones = np.column_stack((X_valid, predicciones_particula_valid))\n"
   ]
  },
  {
   "cell_type": "markdown",
   "metadata": {},
   "source": [
    "Ahora probaremos los dos modelos anteriores que mejores resultados hayan dado"
   ]
  },
  {
   "cell_type": "markdown",
   "metadata": {},
   "source": [
    "#### Bayessian Ridge Regression"
   ]
  },
  {
   "cell_type": "code",
   "execution_count": 56,
   "metadata": {},
   "outputs": [
    {
     "name": "stdout",
     "output_type": "stream",
     "text": [
      "Mean Squared Error: 0.009273509767388678\n",
      "Mean Abosolute Error: 0.07604590485407857\n",
      "R2 score: 0.6923825024413102\n"
     ]
    }
   ],
   "source": [
    "from sklearn.linear_model import BayesianRidge\n",
    "\n",
    "model_bayesian_ridge = BayesianRidge().fit(X_train_con_predicciones, trueE_train)\n",
    "y_pred = model_bayesian_ridge.predict(X_valid_con_predicciones)\n",
    "\n",
    "mse, mae, r2 = scores_errors(trueE_valid, y_pred)\n",
    "print(\"Mean Squared Error:\", mse)\n",
    "print(\"Mean Abosolute Error:\", mae)\n",
    "print(\"R2 score:\", r2)"
   ]
  },
  {
   "cell_type": "code",
   "execution_count": 57,
   "metadata": {},
   "outputs": [
    {
     "name": "stdout",
     "output_type": "stream",
     "text": [
      "Predicción aislada\n",
      "Valor real 0.496129\n",
      "Valor prededecido 0.4248211114884911\n"
     ]
    }
   ],
   "source": [
    "print('Predicción aislada')\n",
    "print('Valor real', trueE_valid[100])\n",
    "print('Valor prededecido', y_pred[100])"
   ]
  },
  {
   "cell_type": "markdown",
   "metadata": {},
   "source": [
    "#### Polinomial Features"
   ]
  },
  {
   "cell_type": "code",
   "execution_count": 58,
   "metadata": {},
   "outputs": [
    {
     "name": "stdout",
     "output_type": "stream",
     "text": [
      "Mean Squared Error: 0.0111648623090275\n",
      "Mean Abosolute Error: 0.06362626308452668\n",
      "R2 score: 0.6296432429317972\n"
     ]
    }
   ],
   "source": [
    "from sklearn.tree import DecisionTreeRegressor\n",
    "\n",
    "model_decision_tree = DecisionTreeRegressor().fit(X_train_con_predicciones, trueE_train)\n",
    "y_pred = model_decision_tree.predict(X_valid_con_predicciones)\n",
    "\n",
    "mse, mae, r2 = scores_errors(trueE_valid, y_pred)\n",
    "print(\"Mean Squared Error:\", mse)\n",
    "print(\"Mean Abosolute Error:\", mae)\n",
    "print(\"R2 score:\", r2)"
   ]
  },
  {
   "cell_type": "code",
   "execution_count": 59,
   "metadata": {},
   "outputs": [
    {
     "name": "stdout",
     "output_type": "stream",
     "text": [
      "Predicción aislada\n",
      "Valor real 0.496129\n",
      "Valor prededecido 0.49928\n"
     ]
    }
   ],
   "source": [
    "print('Predicción aislada')\n",
    "print('Valor real', trueE_valid[100])\n",
    "print('Valor prededecido', y_pred[100])"
   ]
  },
  {
   "cell_type": "markdown",
   "metadata": {},
   "source": [
    "#### Regresion Lineal"
   ]
  },
  {
   "cell_type": "code",
   "execution_count": 60,
   "metadata": {},
   "outputs": [
    {
     "name": "stdout",
     "output_type": "stream",
     "text": [
      "Mean Squared Error: 0.008125892684760853\n",
      "Mean Abosolute Error: 0.06580804547944726\n",
      "R2 score: 0.7304508394538007\n"
     ]
    }
   ],
   "source": [
    "from sklearn.linear_model import LinearRegression\n",
    "\n",
    "model_linear_regresion = LinearRegression(fit_intercept=True, copy_X=True, positive=False).fit(X_train_con_predicciones, trueE_train)\n",
    "y_pred = model_linear_regresion.predict(X_valid_con_predicciones)\n",
    "\n",
    "mse, mae, r2 = scores_errors(trueE_valid, y_pred)\n",
    "print(\"Mean Squared Error:\", mse)\n",
    "print(\"Mean Abosolute Error:\", mae)\n",
    "print(\"R2 score:\", r2)"
   ]
  },
  {
   "cell_type": "code",
   "execution_count": 61,
   "metadata": {},
   "outputs": [
    {
     "name": "stdout",
     "output_type": "stream",
     "text": [
      "Predicción aislada\n",
      "Valor real 0.496129\n",
      "Valor prededecido 0.4874450710614595\n"
     ]
    }
   ],
   "source": [
    "print('Predicción aislada')\n",
    "print('Valor real', trueE_valid[100])\n",
    "print('Valor prededecido', y_pred[100])"
   ]
  }
 ],
 "metadata": {
  "kernelspec": {
   "display_name": "Python 3 (ipykernel)",
   "language": "python",
   "name": "python3"
  },
  "language_info": {
   "codemirror_mode": {
    "name": "ipython",
    "version": 3
   },
   "file_extension": ".py",
   "mimetype": "text/x-python",
   "name": "python",
   "nbconvert_exporter": "python",
   "pygments_lexer": "ipython3",
   "version": "3.11.5"
  }
 },
 "nbformat": 4,
 "nbformat_minor": 2
}
