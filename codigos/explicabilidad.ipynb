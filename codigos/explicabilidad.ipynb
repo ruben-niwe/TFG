{
 "cells": [
  {
   "cell_type": "markdown",
   "metadata": {},
   "source": [
    "En esta sección, veremos la explicabilidad del modelo. Veremos como se comporta a bajas/medias/altas energías. Esta energía nos la dará la feature `trueE`, cuya feature no ha entrado dentro del proceso de entrenamiento, ya que es un valor que no se conoce durante el proceso de la clasificación de las energías."
   ]
  },
  {
   "cell_type": "code",
   "execution_count": 4,
   "metadata": {},
   "outputs": [],
   "source": [
    "import pandas as pd\n",
    "import numpy as np\n",
    "import os"
   ]
  },
  {
   "cell_type": "code",
   "execution_count": 5,
   "metadata": {},
   "outputs": [
    {
     "name": "stdout",
     "output_type": "stream",
     "text": [
      "Directorio actual: /home/rml/tfg/codigos\n"
     ]
    }
   ],
   "source": [
    "# Cambiar el directorio de trabajo\n",
    "ruta_nueva = '/home/rml/tfg/codigos'  # Reemplaza 'TuUsuario' con tu nombre de usuario de Windows\n",
    "os.chdir(ruta_nueva)\n",
    "\n",
    "# Mostrar el directorio actual para confirmar el cambio\n",
    "directorio_actual = os.getcwd()\n",
    "print(\"Directorio actual:\", directorio_actual)"
   ]
  },
  {
   "cell_type": "code",
   "execution_count": 6,
   "metadata": {},
   "outputs": [],
   "source": [
    "# Leemos los datos de train\n",
    "path_actual = os.getcwd()\n",
    "subdirectorio = 'datas'\n",
    "file_train = 'df_train.csv'\n",
    "path_train = os.path.join(path_actual, subdirectorio, file_train)\n",
    "df_train = pd.read_csv(path_train, index_col=None)"
   ]
  },
  {
   "cell_type": "code",
   "execution_count": 7,
   "metadata": {},
   "outputs": [],
   "source": [
    "# Leemos los datos de validacion\n",
    "file_valid = 'df_valid.csv'\n",
    "path_valid = os.path.join(path_actual,subdirectorio, file_valid)\n",
    "df_valid = pd.read_csv(path_valid, index_col=None)"
   ]
  },
  {
   "cell_type": "code",
   "execution_count": 8,
   "metadata": {},
   "outputs": [
    {
     "data": {
      "text/html": [
       "<div>\n",
       "<style scoped>\n",
       "    .dataframe tbody tr th:only-of-type {\n",
       "        vertical-align: middle;\n",
       "    }\n",
       "\n",
       "    .dataframe tbody tr th {\n",
       "        vertical-align: top;\n",
       "    }\n",
       "\n",
       "    .dataframe thead th {\n",
       "        text-align: right;\n",
       "    }\n",
       "</style>\n",
       "<table border=\"1\" class=\"dataframe\">\n",
       "  <thead>\n",
       "    <tr style=\"text-align: right;\">\n",
       "      <th></th>\n",
       "      <th>eventID</th>\n",
       "      <th>PDGcode</th>\n",
       "      <th>trueE</th>\n",
       "      <th>hitX</th>\n",
       "      <th>hitY</th>\n",
       "      <th>hitZ</th>\n",
       "      <th>hitTime</th>\n",
       "      <th>hitInteg</th>\n",
       "    </tr>\n",
       "  </thead>\n",
       "  <tbody>\n",
       "    <tr>\n",
       "      <th>0</th>\n",
       "      <td>0</td>\n",
       "      <td>211</td>\n",
       "      <td>0.258707</td>\n",
       "      <td>-0.0020</td>\n",
       "      <td>-0.173207</td>\n",
       "      <td>0.2</td>\n",
       "      <td>1704.94</td>\n",
       "      <td>318.992</td>\n",
       "    </tr>\n",
       "    <tr>\n",
       "      <th>1</th>\n",
       "      <td>0</td>\n",
       "      <td>211</td>\n",
       "      <td>0.258707</td>\n",
       "      <td>0.0000</td>\n",
       "      <td>0.000000</td>\n",
       "      <td>0.5</td>\n",
       "      <td>1704.96</td>\n",
       "      <td>346.856</td>\n",
       "    </tr>\n",
       "    <tr>\n",
       "      <th>2</th>\n",
       "      <td>0</td>\n",
       "      <td>211</td>\n",
       "      <td>0.258707</td>\n",
       "      <td>0.0024</td>\n",
       "      <td>0.000000</td>\n",
       "      <td>0.7</td>\n",
       "      <td>1704.99</td>\n",
       "      <td>592.421</td>\n",
       "    </tr>\n",
       "    <tr>\n",
       "      <th>3</th>\n",
       "      <td>0</td>\n",
       "      <td>211</td>\n",
       "      <td>0.258707</td>\n",
       "      <td>0.0067</td>\n",
       "      <td>-0.346409</td>\n",
       "      <td>0.7</td>\n",
       "      <td>1698.51</td>\n",
       "      <td>1070.020</td>\n",
       "    </tr>\n",
       "    <tr>\n",
       "      <th>4</th>\n",
       "      <td>0</td>\n",
       "      <td>211</td>\n",
       "      <td>0.258707</td>\n",
       "      <td>0.0036</td>\n",
       "      <td>-0.519616</td>\n",
       "      <td>0.8</td>\n",
       "      <td>1698.47</td>\n",
       "      <td>889.101</td>\n",
       "    </tr>\n",
       "    <tr>\n",
       "      <th>...</th>\n",
       "      <td>...</td>\n",
       "      <td>...</td>\n",
       "      <td>...</td>\n",
       "      <td>...</td>\n",
       "      <td>...</td>\n",
       "      <td>...</td>\n",
       "      <td>...</td>\n",
       "      <td>...</td>\n",
       "    </tr>\n",
       "    <tr>\n",
       "      <th>3267899</th>\n",
       "      <td>19997</td>\n",
       "      <td>321</td>\n",
       "      <td>0.500785</td>\n",
       "      <td>1.9472</td>\n",
       "      <td>-12.124400</td>\n",
       "      <td>4.7</td>\n",
       "      <td>1726.72</td>\n",
       "      <td>357.400</td>\n",
       "    </tr>\n",
       "    <tr>\n",
       "      <th>3267900</th>\n",
       "      <td>19997</td>\n",
       "      <td>321</td>\n",
       "      <td>0.500785</td>\n",
       "      <td>1.9682</td>\n",
       "      <td>-12.817200</td>\n",
       "      <td>4.7</td>\n",
       "      <td>1723.61</td>\n",
       "      <td>338.582</td>\n",
       "    </tr>\n",
       "    <tr>\n",
       "      <th>3267901</th>\n",
       "      <td>19997</td>\n",
       "      <td>321</td>\n",
       "      <td>0.500785</td>\n",
       "      <td>2.0054</td>\n",
       "      <td>-12.470800</td>\n",
       "      <td>4.7</td>\n",
       "      <td>1727.47</td>\n",
       "      <td>333.317</td>\n",
       "    </tr>\n",
       "    <tr>\n",
       "      <th>3267902</th>\n",
       "      <td>19997</td>\n",
       "      <td>321</td>\n",
       "      <td>0.500785</td>\n",
       "      <td>1.6111</td>\n",
       "      <td>-13.683200</td>\n",
       "      <td>4.8</td>\n",
       "      <td>1719.04</td>\n",
       "      <td>368.375</td>\n",
       "    </tr>\n",
       "    <tr>\n",
       "      <th>3267903</th>\n",
       "      <td>19997</td>\n",
       "      <td>321</td>\n",
       "      <td>0.500785</td>\n",
       "      <td>1.7599</td>\n",
       "      <td>-10.565500</td>\n",
       "      <td>4.8</td>\n",
       "      <td>1724.33</td>\n",
       "      <td>129.447</td>\n",
       "    </tr>\n",
       "  </tbody>\n",
       "</table>\n",
       "<p>3267904 rows × 8 columns</p>\n",
       "</div>"
      ],
      "text/plain": [
       "         eventID  PDGcode     trueE    hitX       hitY  hitZ  hitTime  \\\n",
       "0              0      211  0.258707 -0.0020  -0.173207   0.2  1704.94   \n",
       "1              0      211  0.258707  0.0000   0.000000   0.5  1704.96   \n",
       "2              0      211  0.258707  0.0024   0.000000   0.7  1704.99   \n",
       "3              0      211  0.258707  0.0067  -0.346409   0.7  1698.51   \n",
       "4              0      211  0.258707  0.0036  -0.519616   0.8  1698.47   \n",
       "...          ...      ...       ...     ...        ...   ...      ...   \n",
       "3267899    19997      321  0.500785  1.9472 -12.124400   4.7  1726.72   \n",
       "3267900    19997      321  0.500785  1.9682 -12.817200   4.7  1723.61   \n",
       "3267901    19997      321  0.500785  2.0054 -12.470800   4.7  1727.47   \n",
       "3267902    19997      321  0.500785  1.6111 -13.683200   4.8  1719.04   \n",
       "3267903    19997      321  0.500785  1.7599 -10.565500   4.8  1724.33   \n",
       "\n",
       "         hitInteg  \n",
       "0         318.992  \n",
       "1         346.856  \n",
       "2         592.421  \n",
       "3        1070.020  \n",
       "4         889.101  \n",
       "...           ...  \n",
       "3267899   357.400  \n",
       "3267900   338.582  \n",
       "3267901   333.317  \n",
       "3267902   368.375  \n",
       "3267903   129.447  \n",
       "\n",
       "[3267904 rows x 8 columns]"
      ]
     },
     "execution_count": 8,
     "metadata": {},
     "output_type": "execute_result"
    }
   ],
   "source": [
    "df_valid"
   ]
  },
  {
   "cell_type": "code",
   "execution_count": 9,
   "metadata": {},
   "outputs": [
    {
     "data": {
      "text/html": [
       "<div>\n",
       "<style scoped>\n",
       "    .dataframe tbody tr th:only-of-type {\n",
       "        vertical-align: middle;\n",
       "    }\n",
       "\n",
       "    .dataframe tbody tr th {\n",
       "        vertical-align: top;\n",
       "    }\n",
       "\n",
       "    .dataframe thead th {\n",
       "        text-align: right;\n",
       "    }\n",
       "</style>\n",
       "<table border=\"1\" class=\"dataframe\">\n",
       "  <thead>\n",
       "    <tr style=\"text-align: right;\">\n",
       "      <th></th>\n",
       "      <th>eventID</th>\n",
       "      <th>PDGcode</th>\n",
       "      <th>trueE</th>\n",
       "      <th>hitX</th>\n",
       "      <th>hitY</th>\n",
       "      <th>hitZ</th>\n",
       "      <th>hitTime</th>\n",
       "      <th>hitInteg</th>\n",
       "    </tr>\n",
       "  </thead>\n",
       "  <tbody>\n",
       "    <tr>\n",
       "      <th>0</th>\n",
       "      <td>1</td>\n",
       "      <td>211</td>\n",
       "      <td>0.381965</td>\n",
       "      <td>13.5922</td>\n",
       "      <td>2.85275</td>\n",
       "      <td>-18.062</td>\n",
       "      <td>1872.38</td>\n",
       "      <td>1655.0600</td>\n",
       "    </tr>\n",
       "    <tr>\n",
       "      <th>1</th>\n",
       "      <td>1</td>\n",
       "      <td>211</td>\n",
       "      <td>0.381965</td>\n",
       "      <td>13.8270</td>\n",
       "      <td>2.79629</td>\n",
       "      <td>-17.893</td>\n",
       "      <td>1878.77</td>\n",
       "      <td>340.1960</td>\n",
       "    </tr>\n",
       "    <tr>\n",
       "      <th>2</th>\n",
       "      <td>1</td>\n",
       "      <td>211</td>\n",
       "      <td>0.381965</td>\n",
       "      <td>13.6746</td>\n",
       "      <td>2.74496</td>\n",
       "      <td>-17.677</td>\n",
       "      <td>1876.82</td>\n",
       "      <td>4047.6200</td>\n",
       "    </tr>\n",
       "    <tr>\n",
       "      <th>3</th>\n",
       "      <td>1</td>\n",
       "      <td>211</td>\n",
       "      <td>0.381965</td>\n",
       "      <td>13.5436</td>\n",
       "      <td>2.71796</td>\n",
       "      <td>-17.580</td>\n",
       "      <td>1878.30</td>\n",
       "      <td>1234.5500</td>\n",
       "    </tr>\n",
       "    <tr>\n",
       "      <th>4</th>\n",
       "      <td>1</td>\n",
       "      <td>211</td>\n",
       "      <td>0.381965</td>\n",
       "      <td>13.3256</td>\n",
       "      <td>2.72527</td>\n",
       "      <td>-17.542</td>\n",
       "      <td>1868.97</td>\n",
       "      <td>1394.2800</td>\n",
       "    </tr>\n",
       "    <tr>\n",
       "      <th>...</th>\n",
       "      <td>...</td>\n",
       "      <td>...</td>\n",
       "      <td>...</td>\n",
       "      <td>...</td>\n",
       "      <td>...</td>\n",
       "      <td>...</td>\n",
       "      <td>...</td>\n",
       "      <td>...</td>\n",
       "    </tr>\n",
       "    <tr>\n",
       "      <th>11612552</th>\n",
       "      <td>19999</td>\n",
       "      <td>321</td>\n",
       "      <td>0.511779</td>\n",
       "      <td>-26.7600</td>\n",
       "      <td>9.41895</td>\n",
       "      <td>45.739</td>\n",
       "      <td>1362.47</td>\n",
       "      <td>1825.6700</td>\n",
       "    </tr>\n",
       "    <tr>\n",
       "      <th>11612553</th>\n",
       "      <td>19999</td>\n",
       "      <td>321</td>\n",
       "      <td>0.511779</td>\n",
       "      <td>-26.8500</td>\n",
       "      <td>9.43314</td>\n",
       "      <td>45.757</td>\n",
       "      <td>1358.16</td>\n",
       "      <td>1862.7900</td>\n",
       "    </tr>\n",
       "    <tr>\n",
       "      <th>11612554</th>\n",
       "      <td>19999</td>\n",
       "      <td>321</td>\n",
       "      <td>0.511779</td>\n",
       "      <td>-26.8780</td>\n",
       "      <td>9.51059</td>\n",
       "      <td>46.057</td>\n",
       "      <td>1360.96</td>\n",
       "      <td>1586.2400</td>\n",
       "    </tr>\n",
       "    <tr>\n",
       "      <th>11612555</th>\n",
       "      <td>19999</td>\n",
       "      <td>321</td>\n",
       "      <td>0.511779</td>\n",
       "      <td>-26.9210</td>\n",
       "      <td>9.52140</td>\n",
       "      <td>46.063</td>\n",
       "      <td>1357.25</td>\n",
       "      <td>388.8380</td>\n",
       "    </tr>\n",
       "    <tr>\n",
       "      <th>11612556</th>\n",
       "      <td>19999</td>\n",
       "      <td>321</td>\n",
       "      <td>0.511779</td>\n",
       "      <td>-26.9500</td>\n",
       "      <td>9.57917</td>\n",
       "      <td>46.294</td>\n",
       "      <td>1360.04</td>\n",
       "      <td>80.6368</td>\n",
       "    </tr>\n",
       "  </tbody>\n",
       "</table>\n",
       "<p>11612557 rows × 8 columns</p>\n",
       "</div>"
      ],
      "text/plain": [
       "          eventID  PDGcode     trueE     hitX     hitY    hitZ  hitTime  \\\n",
       "0               1      211  0.381965  13.5922  2.85275 -18.062  1872.38   \n",
       "1               1      211  0.381965  13.8270  2.79629 -17.893  1878.77   \n",
       "2               1      211  0.381965  13.6746  2.74496 -17.677  1876.82   \n",
       "3               1      211  0.381965  13.5436  2.71796 -17.580  1878.30   \n",
       "4               1      211  0.381965  13.3256  2.72527 -17.542  1868.97   \n",
       "...           ...      ...       ...      ...      ...     ...      ...   \n",
       "11612552    19999      321  0.511779 -26.7600  9.41895  45.739  1362.47   \n",
       "11612553    19999      321  0.511779 -26.8500  9.43314  45.757  1358.16   \n",
       "11612554    19999      321  0.511779 -26.8780  9.51059  46.057  1360.96   \n",
       "11612555    19999      321  0.511779 -26.9210  9.52140  46.063  1357.25   \n",
       "11612556    19999      321  0.511779 -26.9500  9.57917  46.294  1360.04   \n",
       "\n",
       "           hitInteg  \n",
       "0         1655.0600  \n",
       "1          340.1960  \n",
       "2         4047.6200  \n",
       "3         1234.5500  \n",
       "4         1394.2800  \n",
       "...             ...  \n",
       "11612552  1825.6700  \n",
       "11612553  1862.7900  \n",
       "11612554  1586.2400  \n",
       "11612555   388.8380  \n",
       "11612556    80.6368  \n",
       "\n",
       "[11612557 rows x 8 columns]"
      ]
     },
     "execution_count": 9,
     "metadata": {},
     "output_type": "execute_result"
    }
   ],
   "source": [
    "df_train"
   ]
  },
  {
   "cell_type": "markdown",
   "metadata": {},
   "source": [
    "Ahora veremos los posibles valores que tienen los diferentes hits para los diferentes eventos."
   ]
  },
  {
   "cell_type": "code",
   "execution_count": 10,
   "metadata": {},
   "outputs": [
    {
     "name": "stdout",
     "output_type": "stream",
     "text": [
      "209    0.265781\n",
      "210    0.265781\n",
      "211    0.265781\n",
      "212    0.265781\n",
      "213    0.265781\n",
      "         ...   \n",
      "393    0.265781\n",
      "394    0.265781\n",
      "395    0.265781\n",
      "396    0.265781\n",
      "397    0.265781\n",
      "Name: trueE, Length: 189, dtype: float64\n"
     ]
    },
    {
     "data": {
      "image/png": "[encoded data removed]",
      "text/plain": [
       "<Figure size 640x480 with 1 Axes>"
      ]
     },
     "metadata": {},
     "output_type": "display_data"
    }
   ],
   "source": [
    "import matplotlib.pyplot as plt\n",
    "\n",
    "\n",
    "filtro = (df_train['eventID'] == 2) & (df_train['PDGcode'] == 211)\n",
    "resultados = df_train.loc[filtro, 'trueE']\n",
    "print(resultados)\n",
    "\n",
    "plt.plot(resultados, label='trueE', marker='_')\n",
    "plt.grid(True)\n",
    "plt.legend()  \n",
    "plt.show()"
   ]
  },
  {
   "cell_type": "code",
   "execution_count": 11,
   "metadata": {},
   "outputs": [
    {
     "name": "stdout",
     "output_type": "stream",
     "text": [
      "eventID  PDGcode\n",
      "1        211        1\n",
      "         321        1\n",
      "2        211        1\n",
      "         321        1\n",
      "4        211        1\n",
      "                   ..\n",
      "19993    321        1\n",
      "19994    321        1\n",
      "19995    321        1\n",
      "19996    321        1\n",
      "19999    321        1\n",
      "Name: trueE, Length: 27615, dtype: int64\n"
     ]
    }
   ],
   "source": [
    "import pandas as pd\n",
    "\n",
    "# Suponiendo que df_train es tu DataFrame\n",
    "grouped = df_train.groupby(['eventID', 'PDGcode'])['trueE'].nunique()\n",
    "\n",
    "# Imprime el resultado para verificar\n",
    "print(grouped)\n"
   ]
  },
  {
   "cell_type": "code",
   "execution_count": 12,
   "metadata": {},
   "outputs": [
    {
     "data": {
      "image/png": "[encoded data removed]",
      "text/plain": [
       "<Figure size 640x480 with 1 Axes>"
      ]
     },
     "metadata": {},
     "output_type": "display_data"
    }
   ],
   "source": [
    "import matplotlib.pyplot as plt\n",
    "\n",
    "# Dibuja un histograma de los valores únicos de trueE\n",
    "plt.hist(grouped, bins=range(1, grouped.max()+2), align='left', color='blue', rwidth=0.8)\n",
    "plt.xlabel('Número de valores únicos de trueE por grupo')\n",
    "plt.ylabel('Frecuencia')\n",
    "plt.title('Distribución de valores únicos de trueE por grupo')\n",
    "plt.xticks(range(1, grouped.max()+1))  # Asegura que los ticks del eje X sean enteros\n",
    "plt.show()\n"
   ]
  },
  {
   "cell_type": "markdown",
   "metadata": {},
   "source": [
    "Como podemos ver, para un mismo evento todos los hits tiene el mismo valor de `trueE` esto pasa para todas los eventos. Es decir, no hay un evento que tenga dos o más valores de `trueE` para los diferentes hits que contiene un evento."
   ]
  },
  {
   "cell_type": "markdown",
   "metadata": {},
   "source": [
    "Ahora crearemos una funcion como la anterior donde creabamos el dataset para el entrenamiento del modelo, pero que guarde al principio de cada fila el valor de la variable de trueE. Para ello crearemos la siguiente función."
   ]
  },
  {
   "cell_type": "code",
   "execution_count": 13,
   "metadata": {},
   "outputs": [],
   "source": [
    "def filtrado_datos_energia(df, N):\n",
    "    kaones = []\n",
    "    labels = []\n",
    "    valores_trueE = []  # Usamos un conjunto para almacenar valores únicos de trueE\n",
    "\n",
    "    df_sorted = df.sort_values(by=['eventID', 'hitTime'], ascending=[True, False])\n",
    "\n",
    "    for eventID, grupo in df_sorted.groupby('eventID'):\n",
    "        pdgCodes = grupo['PDGcode'].unique()\n",
    "\n",
    "        for pdgCode in pdgCodes:\n",
    "            grupo_filtrado = grupo[grupo['PDGcode'] == pdgCode]\n",
    "            grupo_ordenado = grupo_filtrado.head(N)\n",
    "\n",
    "            # Obtener el valor de 'trueE' para el evento actual\n",
    "            trueE_value = grupo_filtrado['trueE'].iloc[0]\n",
    "\n",
    "            # Almacenar el valor de trueE en el conjunto\n",
    "            valores_trueE.append(trueE_value)\n",
    "\n",
    "            # Inicializar arrays para el padding\n",
    "            hitX_padded = np.zeros(N)\n",
    "            hitY_padded = np.zeros(N)\n",
    "            hitZ_padded = np.zeros(N)\n",
    "            hitInteg_padded = np.zeros(N)\n",
    "\n",
    "            # Separar y aplicar padding a los valores de hitX, hitY, hitZ, hitInteg\n",
    "            hitX_padded[:len(grupo_ordenado['hitX'])] = grupo_ordenado['hitX']\n",
    "            hitY_padded[:len(grupo_ordenado['hitY'])] = grupo_ordenado['hitY']\n",
    "            hitZ_padded[:len(grupo_ordenado['hitZ'])] = grupo_ordenado['hitZ']\n",
    "            hitInteg_padded[:len(grupo_ordenado['hitInteg'])] = grupo_ordenado['hitInteg']\n",
    "\n",
    "            # Concatenar los valores ya con el padding aplicado, añadiendo 'trueE' al principio\n",
    "            hit_values_reorganized = np.concatenate([[trueE_value], hitX_padded, hitY_padded, hitZ_padded, hitInteg_padded])\n",
    "\n",
    "            kaones.append(hit_values_reorganized)\n",
    "\n",
    "            # Modificar las etiquetas de 211 a 0 y de 321 a 1\n",
    "            if pdgCode == 211:\n",
    "                labels.append(0)\n",
    "            elif pdgCode == 321:\n",
    "                labels.append(1)\n",
    "\n",
    "    return np.array(kaones), np.array(labels), np.array(list(valores_trueE))"
   ]
  },
  {
   "cell_type": "code",
   "execution_count": 14,
   "metadata": {},
   "outputs": [],
   "source": [
    "N=760\n",
    "X_train, y_train, trueE_train = filtrado_datos_energia(df_train, N)"
   ]
  },
  {
   "cell_type": "code",
   "execution_count": 15,
   "metadata": {},
   "outputs": [],
   "source": [
    "X_valid, y_valid, trueE_valid = filtrado_datos_energia(df_valid, N)"
   ]
  },
  {
   "cell_type": "markdown",
   "metadata": {},
   "source": [
    "Para dividir en baja/media/alta energía tendremos que ordenar el numero de valores y dividir los valores en tres"
   ]
  },
  {
   "cell_type": "code",
   "execution_count": 16,
   "metadata": {},
   "outputs": [],
   "source": [
    "def dividir_baja_media_alta(trueE):\n",
    "    trueE_ordenado = np.sort(trueE)\n",
    "    n_baja_media = len(trueE) // 3\n",
    "    n_media_alta = (len(trueE) // 3) + n_baja_media\n",
    "    baja_media = trueE_ordenado[n_baja_media]\n",
    "    media_alta = trueE_ordenado[n_media_alta]\n",
    "    \n",
    "    return baja_media, media_alta"
   ]
  },
  {
   "cell_type": "code",
   "execution_count": 17,
   "metadata": {},
   "outputs": [
    {
     "name": "stdout",
     "output_type": "stream",
     "text": [
      "Valor que corta en la zona baja/media 0.42793\n",
      "Valor que corta en media/alta 0.559643\n"
     ]
    }
   ],
   "source": [
    "baja_media, media_alta = dividir_baja_media_alta(trueE_train)\n",
    "\n",
    "print('Valor que corta en la zona baja/media', baja_media)\n",
    "print('Valor que corta en media/alta', media_alta)"
   ]
  },
  {
   "cell_type": "code",
   "execution_count": 18,
   "metadata": {},
   "outputs": [],
   "source": [
    "def calcular_distintos_accuracy(X, y, y_predicciones, valor_baja_media, valor_media_alta):\n",
    "    total_predicciones_bajas = np.sum(X[:, 0] < valor_baja_media)\n",
    "    total_predicciones_medias = np.sum((X[:, 0] >= valor_baja_media) & (X[:, 0] < valor_media_alta))\n",
    "    total_predicciones_altas = np.sum(X[:, 0] >= valor_media_alta)\n",
    "\n",
    "    aciertos_bajas = np.sum((X[:, 0] < valor_baja_media) & (y == y_predicciones))\n",
    "    error_bajas = total_predicciones_bajas - aciertos_bajas\n",
    "\n",
    "    aciertos_medias = np.sum((X[:, 0] >= valor_baja_media) & (X[:, 0] < valor_media_alta) & (y == y_predicciones))\n",
    "    error_medias = total_predicciones_medias - aciertos_medias\n",
    "\n",
    "    aciertos_altas = np.sum((X[:, 0] >= valor_media_alta) & (y == y_predicciones))\n",
    "    errores_altas = total_predicciones_altas - aciertos_altas\n",
    "\n",
    "    accuracy_baja = aciertos_bajas / total_predicciones_bajas if total_predicciones_bajas > 0 else np.nan\n",
    "    accuracy_media = aciertos_medias / total_predicciones_medias if total_predicciones_medias > 0 else np.nan\n",
    "    accuracy_alta = aciertos_altas / total_predicciones_altas if total_predicciones_altas > 0 else np.nan\n",
    "\n",
    "    return accuracy_baja, accuracy_media, accuracy_alta\n",
    "\n"
   ]
  },
  {
   "cell_type": "code",
   "execution_count": 19,
   "metadata": {},
   "outputs": [
    {
     "name": "stdout",
     "output_type": "stream",
     "text": [
      "[0]\tvalidation_0-logloss:0.53096\tvalidation_1-logloss:0.54017\n",
      "[1]\tvalidation_0-logloss:0.43393\tvalidation_1-logloss:0.45053\n",
      "[2]\tvalidation_0-logloss:0.36386\tvalidation_1-logloss:0.38746\n",
      "[3]\tvalidation_0-logloss:0.32016\tvalidation_1-logloss:0.34882\n",
      "[4]\tvalidation_0-logloss:0.28641\tvalidation_1-logloss:0.31834\n",
      "[5]\tvalidation_0-logloss:0.25970\tvalidation_1-logloss:0.29544\n",
      "[6]\tvalidation_0-logloss:0.23554\tvalidation_1-logloss:0.27553\n",
      "[7]\tvalidation_0-logloss:0.21505\tvalidation_1-logloss:0.25975\n"
     ]
    }
   ],
   "source": [
    "from xgboost import XGBClassifier\n",
    "\n",
    "# Parámetros que ya has definido\n",
    "# Parámetros del modelo, incluyendo eval_metric aquí\n",
    "params = {\n",
    "    'booster': 'gbtree',\n",
    "    'max_depth': 6,\n",
    "    'gamma': 0,\n",
    "    'learning_rate': 0.3,\n",
    "    'subsample': 1,\n",
    "    'colsample_bytree': 1,\n",
    "    'objective': 'binary:logistic',\n",
    "    'eval_metric': 'logloss',  # Especificar aquí\n",
    "    'seed': 42\n",
    "}\n",
    "\n",
    "num_epochs = 8\n",
    "\n",
    "# Inicializar el modelo XGBoost con eval_metric en el constructor\n",
    "XGB_model = XGBClassifier(**params, n_estimators=num_epochs)\n",
    "\n",
    "# Conjuntos de evaluación\n",
    "eval_set = [(X_train[:, 1:], y_train), (X_valid[:, 1:], y_valid)]\n",
    "\n",
    "# Entrenar el modelo sin especificar eval_metric en fit\n",
    "XGB_model.fit(X_train[:, 1:], y_train, eval_set=eval_set, verbose=True)\n",
    "\n",
    "# Predicciones\n",
    "y_pred_valid = XGB_model.predict(X_valid[:, 1:])\n",
    "y_pred_train = XGB_model.predict(X_train[:, 1:])\n",
    "\n",
    "# Tus funciones de cálculo de accuracy específicas\n",
    "accuracy_baja_train, accuracy_media_train, accuracy_alta_train = calcular_distintos_accuracy(X_train, y_train, y_pred_train, baja_media, media_alta)\n",
    "accuracy_baja_valid, accuracy_media_valid, accuracy_alta_valid = calcular_distintos_accuracy(X_valid, y_valid, y_pred_valid, baja_media, media_alta)\n"
   ]
  },
  {
   "cell_type": "code",
   "execution_count": 33,
   "metadata": {},
   "outputs": [
    {
     "data": {
      "image/png": "[encoded data removed]",
      "text/plain": [
       "<Figure size 640x480 with 1 Axes>"
      ]
     },
     "metadata": {},
     "output_type": "display_data"
    },
    {
     "ename": "",
     "evalue": "",
     "output_type": "error",
     "traceback": [
      "\u001b[1;31mThe Kernel crashed while executing code in the current cell or a previous cell. \n",
      "\u001b[1;31mPlease review the code in the cell(s) to identify a possible cause of the failure. \n",
      "\u001b[1;31mClick <a href='https://aka.ms/vscodeJupyterKernelCrash'>here</a> for more info. \n",
      "\u001b[1;31mView Jupyter <a href='command:jupyter.viewOutput'>log</a> for further details."
     ]
    }
   ],
   "source": [
    "import matplotlib.pyplot as plt\n",
    "\n",
    "# Extracción de los resultados de evaluación\n",
    "results = XGB_model.evals_result()\n",
    "\n",
    "# Configuración para la gráfica\n",
    "epochs = len(results['validation_0']['logloss'])\n",
    "x_axis = range(0, epochs)\n",
    "\n",
    "fig, ax = plt.subplots()\n",
    "ax.plot(x_axis, results['validation_0']['logloss'], label='Train')\n",
    "ax.plot(x_axis, results['validation_1']['logloss'], label='Valid')\n",
    "ax.set_ylim([0, 0.5])\n",
    "ax.legend()\n",
    "\n",
    "plt.xlabel('Épocas')\n",
    "plt.ylabel('Función de Pérdida')\n",
    "plt.title('Función de Pérdida XGBoost')\n",
    "plt.show()\n"
   ]
  },
  {
   "cell_type": "code",
   "execution_count": 21,
   "metadata": {},
   "outputs": [
    {
     "name": "stdout",
     "output_type": "stream",
     "text": [
      "Resultados para train\n",
      "Accuracy para train: 0.9419518377693282\n",
      "Accuracy para energías bajas: 0.958500814774579\n",
      "Accuracy para energías medias: 0.9413362303096143\n",
      "Accuracy para energías altas: 0.9260184682237914\n"
     ]
    }
   ],
   "source": [
    "from sklearn.metrics import accuracy_score\n",
    "\n",
    "print('Resultados para train')\n",
    "accuracy_train = accuracy_score(y_train, y_pred_train)\n",
    "accuracy_train\n",
    "print('Accuracy para train:', accuracy_train)\n",
    "print('Accuracy para energías bajas:', accuracy_baja_train)\n",
    "print('Accuracy para energías medias:', accuracy_media_train)\n",
    "print('Accuracy para energías altas:', accuracy_alta_train)"
   ]
  },
  {
   "cell_type": "code",
   "execution_count": 22,
   "metadata": {},
   "outputs": [
    {
     "name": "stdout",
     "output_type": "stream",
     "text": [
      "Resultados para validacion\n",
      "Accuracy para validacion: 0.9172474971486504\n",
      "Accuracy para energías bajas: 0.9442960702022128\n",
      "Accuracy para energías medias: 0.9077724060989215\n",
      "Accuracy para energías altas: 0.8996512979465323\n"
     ]
    }
   ],
   "source": [
    "print('Resultados para validacion')\n",
    "accuracy_valid = accuracy_score(y_valid, y_pred_valid)\n",
    "accuracy_valid\n",
    "print('Accuracy para validacion:', accuracy_valid)\n",
    "print('Accuracy para energías bajas:', accuracy_baja_valid)\n",
    "print('Accuracy para energías medias:', accuracy_media_valid)\n",
    "print('Accuracy para energías altas:', accuracy_alta_valid)"
   ]
  },
  {
   "cell_type": "markdown",
   "metadata": {},
   "source": [
    "### Entrenamiento del modelo con los datos de train y valid"
   ]
  },
  {
   "cell_type": "code",
   "execution_count": 23,
   "metadata": {},
   "outputs": [],
   "source": [
    "X = np.concatenate([X_train, X_valid])\n",
    "y = np.concatenate([y_train, y_valid])"
   ]
  },
  {
   "cell_type": "code",
   "execution_count": 24,
   "metadata": {},
   "outputs": [
    {
     "data": {
      "text/plain": [
       "3041"
      ]
     },
     "execution_count": 24,
     "metadata": {},
     "output_type": "execute_result"
    }
   ],
   "source": [
    "len(X[0])"
   ]
  },
  {
   "cell_type": "code",
   "execution_count": 25,
   "metadata": {},
   "outputs": [
    {
     "data": {
      "text/html": [
       "<style>#sk-container-id-1 {color: black;}#sk-container-id-1 pre{padding: 0;}#sk-container-id-1 div.sk-toggleable {background-color: white;}#sk-container-id-1 label.sk-toggleable__label {cursor: pointer;display: block;width: 100%;margin-bottom: 0;padding: 0.3em;box-sizing: border-box;text-align: center;}#sk-container-id-1 label.sk-toggleable__label-arrow:before {content: \"▸\";float: left;margin-right: 0.25em;color: #696969;}#sk-container-id-1 label.sk-toggleable__label-arrow:hover:before {color: black;}#sk-container-id-1 div.sk-estimator:hover label.sk-toggleable__label-arrow:before {color: black;}#sk-container-id-1 div.sk-toggleable__content {max-height: 0;max-width: 0;overflow: hidden;text-align: left;background-color: #f0f8ff;}#sk-container-id-1 div.sk-toggleable__content pre {margin: 0.2em;color: black;border-radius: 0.25em;background-color: #f0f8ff;}#sk-container-id-1 input.sk-toggleable__control:checked~div.sk-toggleable__content {max-height: 200px;max-width: 100%;overflow: auto;}#sk-container-id-1 input.sk-toggleable__control:checked~label.sk-toggleable__label-arrow:before {content: \"▾\";}#sk-container-id-1 div.sk-estimator input.sk-toggleable__control:checked~label.sk-toggleable__label {background-color: #d4ebff;}#sk-container-id-1 div.sk-label input.sk-toggleable__control:checked~label.sk-toggleable__label {background-color: #d4ebff;}#sk-container-id-1 input.sk-hidden--visually {border: 0;clip: rect(1px 1px 1px 1px);clip: rect(1px, 1px, 1px, 1px);height: 1px;margin: -1px;overflow: hidden;padding: 0;position: absolute;width: 1px;}#sk-container-id-1 div.sk-estimator {font-family: monospace;background-color: #f0f8ff;border: 1px dotted black;border-radius: 0.25em;box-sizing: border-box;margin-bottom: 0.5em;}#sk-container-id-1 div.sk-estimator:hover {background-color: #d4ebff;}#sk-container-id-1 div.sk-parallel-item::after {content: \"\";width: 100%;border-bottom: 1px solid gray;flex-grow: 1;}#sk-container-id-1 div.sk-label:hover label.sk-toggleable__label {background-color: #d4ebff;}#sk-container-id-1 div.sk-serial::before {content: \"\";position: absolute;border-left: 1px solid gray;box-sizing: border-box;top: 0;bottom: 0;left: 50%;z-index: 0;}#sk-container-id-1 div.sk-serial {display: flex;flex-direction: column;align-items: center;background-color: white;padding-right: 0.2em;padding-left: 0.2em;position: relative;}#sk-container-id-1 div.sk-item {position: relative;z-index: 1;}#sk-container-id-1 div.sk-parallel {display: flex;align-items: stretch;justify-content: center;background-color: white;position: relative;}#sk-container-id-1 div.sk-item::before, #sk-container-id-1 div.sk-parallel-item::before {content: \"\";position: absolute;border-left: 1px solid gray;box-sizing: border-box;top: 0;bottom: 0;left: 50%;z-index: -1;}#sk-container-id-1 div.sk-parallel-item {display: flex;flex-direction: column;z-index: 1;position: relative;background-color: white;}#sk-container-id-1 div.sk-parallel-item:first-child::after {align-self: flex-end;width: 50%;}#sk-container-id-1 div.sk-parallel-item:last-child::after {align-self: flex-start;width: 50%;}#sk-container-id-1 div.sk-parallel-item:only-child::after {width: 0;}#sk-container-id-1 div.sk-dashed-wrapped {border: 1px dashed gray;margin: 0 0.4em 0.5em 0.4em;box-sizing: border-box;padding-bottom: 0.4em;background-color: white;}#sk-container-id-1 div.sk-label label {font-family: monospace;font-weight: bold;display: inline-block;line-height: 1.2em;}#sk-container-id-1 div.sk-label-container {text-align: center;}#sk-container-id-1 div.sk-container {/* jupyter's `normalize.less` sets `[hidden] { display: none; }` but bootstrap.min.css set `[hidden] { display: none !important; }` so we also need the `!important` here to be able to override the default hidden behavior on the sphinx rendered scikit-learn.org. See: https://github.com/scikit-learn/scikit-learn/issues/21755 */display: inline-block !important;position: relative;}#sk-container-id-1 div.sk-text-repr-fallback {display: none;}</style><div id=\"sk-container-id-1\" class=\"sk-top-container\"><div class=\"sk-text-repr-fallback\"><pre>XGBClassifier(base_score=None, booster=&#x27;gbtree&#x27;, callbacks=None,\n",
       "              colsample_bylevel=None, colsample_bynode=None, colsample_bytree=1,\n",
       "              device=None, early_stopping_rounds=None, enable_categorical=False,\n",
       "              eval_metric=&#x27;logloss&#x27;, feature_types=None, gamma=0,\n",
       "              grow_policy=None, importance_type=None,\n",
       "              interaction_constraints=None, learning_rate=0.3, max_bin=None,\n",
       "              max_cat_threshold=None, max_cat_to_onehot=None,\n",
       "              max_delta_step=None, max_depth=6, max_leaves=None,\n",
       "              min_child_weight=None, missing=nan, monotone_constraints=None,\n",
       "              multi_strategy=None, n_estimators=9, n_jobs=None,\n",
       "              num_parallel_tree=None, random_state=None, ...)</pre><b>In a Jupyter environment, please rerun this cell to show the HTML representation or trust the notebook. <br />On GitHub, the HTML representation is unable to render, please try loading this page with nbviewer.org.</b></div><div class=\"sk-container\" hidden><div class=\"sk-item\"><div class=\"sk-estimator sk-toggleable\"><input class=\"sk-toggleable__control sk-hidden--visually\" id=\"sk-estimator-id-1\" type=\"checkbox\" checked><label for=\"sk-estimator-id-1\" class=\"sk-toggleable__label sk-toggleable__label-arrow\">XGBClassifier</label><div class=\"sk-toggleable__content\"><pre>XGBClassifier(base_score=None, booster=&#x27;gbtree&#x27;, callbacks=None,\n",
       "              colsample_bylevel=None, colsample_bynode=None, colsample_bytree=1,\n",
       "              device=None, early_stopping_rounds=None, enable_categorical=False,\n",
       "              eval_metric=&#x27;logloss&#x27;, feature_types=None, gamma=0,\n",
       "              grow_policy=None, importance_type=None,\n",
       "              interaction_constraints=None, learning_rate=0.3, max_bin=None,\n",
       "              max_cat_threshold=None, max_cat_to_onehot=None,\n",
       "              max_delta_step=None, max_depth=6, max_leaves=None,\n",
       "              min_child_weight=None, missing=nan, monotone_constraints=None,\n",
       "              multi_strategy=None, n_estimators=9, n_jobs=None,\n",
       "              num_parallel_tree=None, random_state=None, ...)</pre></div></div></div></div></div>"
      ],
      "text/plain": [
       "XGBClassifier(base_score=None, booster='gbtree', callbacks=None,\n",
       "              colsample_bylevel=None, colsample_bynode=None, colsample_bytree=1,\n",
       "              device=None, early_stopping_rounds=None, enable_categorical=False,\n",
       "              eval_metric='logloss', feature_types=None, gamma=0,\n",
       "              grow_policy=None, importance_type=None,\n",
       "              interaction_constraints=None, learning_rate=0.3, max_bin=None,\n",
       "              max_cat_threshold=None, max_cat_to_onehot=None,\n",
       "              max_delta_step=None, max_depth=6, max_leaves=None,\n",
       "              min_child_weight=None, missing=nan, monotone_constraints=None,\n",
       "              multi_strategy=None, n_estimators=9, n_jobs=None,\n",
       "              num_parallel_tree=None, random_state=None, ...)"
      ]
     },
     "execution_count": 25,
     "metadata": {},
     "output_type": "execute_result"
    }
   ],
   "source": [
    "params = {\n",
    "    'booster': 'gbtree',\n",
    "    'max_depth': 6,\n",
    "    'gamma': 0,\n",
    "    'learning_rate': 0.3,\n",
    "    'subsample': 1,\n",
    "    'colsample_bytree': 1,\n",
    "    'objective': 'binary:logistic',\n",
    "    'eval_metric': 'logloss',\n",
    "    'seed': 42\n",
    "}\n",
    "\n",
    "num_epochs = 9\n",
    "model = XGBClassifier(**params, n_estimators=num_epochs)\n",
    "model.fit(X[:,1:], y)\n",
    "\n"
   ]
  },
  {
   "cell_type": "code",
   "execution_count": 26,
   "metadata": {},
   "outputs": [],
   "source": [
    "# Leemos los datos de test \n",
    "file_test = 'df_test.csv'\n",
    "path_test = os.path.join(path_actual,subdirectorio, file_test)\n",
    "df_test = pd.read_csv(path_test, index_col=None)\n"
   ]
  },
  {
   "cell_type": "markdown",
   "metadata": {},
   "source": [
    "### Resultados en test"
   ]
  },
  {
   "cell_type": "code",
   "execution_count": 27,
   "metadata": {},
   "outputs": [
    {
     "name": "stdout",
     "output_type": "stream",
     "text": [
      "Resultados para test\n",
      "Accuracy para test 0.9189052204764319\n",
      "Accuracy para bajas energías en test:  0.9338905775075987\n",
      "Accuracy para medias energías en test 0.9207920792079208\n",
      "Accuracy para altas energía en test 0.9020501138952164\n"
     ]
    }
   ],
   "source": [
    "X_test, y_test, trueE_test = filtrado_datos_energia(df_test, N)\n",
    "\n",
    "y_pred_test = model.predict(X_test[:,1:])\n",
    "\n",
    "acc_baja_test, acc_media_test, acc_alta_test = calcular_distintos_accuracy(X_test, y_test, y_pred_test, baja_media, media_alta)\n",
    "accuracy_test = accuracy_score(y_test, y_pred_test)\n",
    "\n",
    "print('Resultados para test')\n",
    "print('Accuracy para test', accuracy_test)\n",
    "print('Accuracy para bajas energías en test: ', acc_baja_test)\n",
    "print('Accuracy para medias energías en test', acc_media_test)\n",
    "print('Accuracy para altas energía en test', acc_alta_test)\n"
   ]
  },
  {
   "cell_type": "code",
   "execution_count": 28,
   "metadata": {},
   "outputs": [
    {
     "data": {
      "image/png": "[encoded data removed]",
      "text/plain": [
       "<Figure size 640x480 with 1 Axes>"
      ]
     },
     "metadata": {},
     "output_type": "display_data"
    }
   ],
   "source": [
    "# Crear datos para el histograma\n",
    "labels = ['General', 'Baja Energía', 'Media Energía', 'Alta Energía']\n",
    "train_data = [accuracy_train, accuracy_baja_train, accuracy_media_train, accuracy_alta_train]\n",
    "valid_data = [accuracy_valid, accuracy_baja_valid, accuracy_media_valid, accuracy_alta_valid]\n",
    "test_data = [accuracy_test, acc_baja_test, acc_media_test, acc_alta_test]\n",
    "\n",
    "x = range(len(labels))  # the label locations\n",
    "width = 0.25  # the width of the bars\n",
    "\n",
    "fig, ax = plt.subplots()\n",
    "rects1 = ax.bar(x, train_data, width, label='Train')\n",
    "rects2 = ax.bar([p + width for p in x], valid_data, width, label='Validation')\n",
    "rects3 = ax.bar([p + width * 2 for p in x], test_data, width, label='Test')\n",
    "\n",
    "# Añadir algunas etiquetas, título y etiquetas de ejes personalizadas\n",
    "ax.set_xlabel('Tipo de Precisión')\n",
    "ax.set_ylabel('Accuracy')\n",
    "ax.set_title('Accuracy por tipo de energía y conjunto de datos')\n",
    "ax.set_xticks([p + width for p in x])\n",
    "ax.set_xticklabels(labels)\n",
    "ax.legend(loc='center left', bbox_to_anchor=(1, 0.5))\n",
    "\n",
    "\n",
    "\n",
    "fig.tight_layout()\n",
    "\n",
    "plt.show()"
   ]
  },
  {
   "cell_type": "markdown",
   "metadata": {},
   "source": [
    "### Guardamos en local el modelo"
   ]
  },
  {
   "cell_type": "code",
   "execution_count": 29,
   "metadata": {},
   "outputs": [
    {
     "data": {
      "text/plain": [
       "['model_binary.pkl']"
      ]
     },
     "execution_count": 29,
     "metadata": {},
     "output_type": "execute_result"
    }
   ],
   "source": [
    "import joblib\n",
    "\n",
    "joblib.dump(model, 'model_binary.pkl')\n"
   ]
  }
 ],
 "metadata": {
  "kernelspec": {
   "display_name": "Python (myenv)",
   "language": "python",
   "name": "myenv"
  },
  "language_info": {
   "codemirror_mode": {
    "name": "ipython",
    "version": 3
   },
   "file_extension": ".py",
   "mimetype": "text/x-python",
   "name": "python",
   "nbconvert_exporter": "python",
   "pygments_lexer": "ipython3",
   "version": "3.1.undefined"
  }
 },
 "nbformat": 4,
 "nbformat_minor": 2
}
