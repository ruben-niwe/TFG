{
 "cells": [
  {
   "cell_type": "markdown",
   "metadata": {},
   "source": [
    "En esta sección trataremos de ver como se comportan los 4 mejores modelos entrenados en el notebook `modelosML.ipynb`. Aquí los entrenaremos con Cross Validation para evitar el sobreajuste. Mostraremos matrices de confusión y curvas para ver que modelo es el mejor."
   ]
  },
  {
   "cell_type": "markdown",
   "metadata": {},
   "source": [
    "Para empezar leeremos los datos de train y validacion, después los uniremos, los mezclaremos haciendo un sort para después aplicar un Cross Validarion con los diferentes modelos. Todos estos modelos serán cargados de la biblioteca `sklearn`"
   ]
  },
  {
   "cell_type": "code",
   "execution_count": 1,
   "metadata": {},
   "outputs": [],
   "source": [
    "import funciones \n",
    "import pandas as pd\n",
    "import numpy as np\n",
    "import os"
   ]
  },
  {
   "cell_type": "code",
   "execution_count": 2,
   "metadata": {},
   "outputs": [
    {
     "name": "stdout",
     "output_type": "stream",
     "text": [
      "Directorio actual: C:\\Users\\ruben.morillas\\Desktop\\tfg\n"
     ]
    }
   ],
   "source": [
    "# Cambiar el directorio de trabajo\n",
    "ruta_nueva = 'C:/Users/ruben.morillas/Desktop/tfg/'  # Reemplaza 'TuUsuario' con tu nombre de usuario de Windows\n",
    "os.chdir(ruta_nueva)\n",
    "\n",
    "# Mostrar el directorio actual para confirmar el cambio\n",
    "directorio_actual = os.getcwd()\n",
    "print(\"Directorio actual:\", directorio_actual)"
   ]
  },
  {
   "cell_type": "code",
   "execution_count": 3,
   "metadata": {},
   "outputs": [],
   "source": [
    "# Leemos los datos de train\n",
    "path_actual = os.getcwd()\n",
    "subdirectorio = 'datas'\n",
    "file_train = 'df_train.csv'\n",
    "path_train = os.path.join(path_actual, subdirectorio, file_train)\n",
    "df_train = pd.read_csv(path_train, index_col=None)"
   ]
  },
  {
   "cell_type": "code",
   "execution_count": 4,
   "metadata": {},
   "outputs": [],
   "source": [
    "# Leemos los datos de validacion\n",
    "file_valid = 'df_valid.csv'\n",
    "path_valid = os.path.join(path_actual,subdirectorio, file_valid)\n",
    "df_valid = pd.read_csv(path_valid, index_col=None)"
   ]
  },
  {
   "cell_type": "code",
   "execution_count": 5,
   "metadata": {},
   "outputs": [
    {
     "name": "stdout",
     "output_type": "stream",
     "text": [
      "Dimensiones df_train: (11612557, 8)\n",
      "Dimensiones df_valid: (3267904, 8)\n",
      "Dimensiones combinado: (14880461, 8)\n"
     ]
    }
   ],
   "source": [
    "# Unimos los dos pandas para juntar los datos de train con los de validacion.\n",
    "print('Dimensiones df_train:', df_train.shape)\n",
    "print('Dimensiones df_valid:', df_valid.shape)\n",
    "df_combinado = pd.concat([df_train, df_valid])\n",
    "print('Dimensiones combinado:', df_combinado.shape)"
   ]
  },
  {
   "cell_type": "code",
   "execution_count": 6,
   "metadata": {},
   "outputs": [],
   "source": [
    "def filtrado_datos(df, N):\n",
    "    kaones = []\n",
    "    labels = []\n",
    "\n",
    "    df_sorted = df.sort_values(by=['eventID', 'hitTime'], ascending=[True, False])\n",
    "\n",
    "    for eventID, grupo in df_sorted.groupby('eventID'):\n",
    "        pdgCodes = grupo['PDGcode'].unique()\n",
    "\n",
    "        for pdgCode in pdgCodes:\n",
    "            grupo_filtrado = grupo[grupo['PDGcode'] == pdgCode]\n",
    "            grupo_ordenado = grupo_filtrado.head(N)\n",
    "\n",
    "            # Inicializar arrays para el padding\n",
    "            hitX_padded = np.zeros(N)\n",
    "            hitY_padded = np.zeros(N)\n",
    "            hitZ_padded = np.zeros(N)\n",
    "            hitInteg_padded = np.zeros(N)\n",
    "\n",
    "            # Separar y aplicar padding a los valores de hitX, hitY, hitZ, hitInteg\n",
    "            hitX_padded[:len(grupo_ordenado['hitX'])] = grupo_ordenado['hitX']\n",
    "            hitY_padded[:len(grupo_ordenado['hitY'])] = grupo_ordenado['hitY']\n",
    "            hitZ_padded[:len(grupo_ordenado['hitZ'])] = grupo_ordenado['hitZ']\n",
    "            hitInteg_padded[:len(grupo_ordenado['hitInteg'])] = grupo_ordenado['hitInteg']\n",
    "\n",
    "            # Concatenar los valores ya con el padding aplicado\n",
    "            hit_values_reorganized = np.concatenate([hitX_padded, hitY_padded, hitZ_padded, hitInteg_padded])\n",
    "\n",
    "            kaones.append(hit_values_reorganized)\n",
    "\n",
    "            # Modificar las etiquetas de 211 a 0 y de 321 a 1\n",
    "            if pdgCode == 211:\n",
    "                labels.append(0)\n",
    "            elif pdgCode == 321:\n",
    "                labels.append(1)\n",
    "\n",
    "    return np.array(kaones), np.array(labels)"
   ]
  },
  {
   "cell_type": "markdown",
   "metadata": {},
   "source": [
    "Ahora cargamos los modelos que mejor han funcionado en el notebook que hemos mencionado anteriormente, los modelos son los siguientes:\n",
    "*   **LGBM**: 720 hits por evento\n",
    "*   **Random Forest**: 400 hits por evento\n",
    "*   **GBC**: 760 hits por evento\n",
    "*   **SVM**: 800 hits por evento"
   ]
  },
  {
   "cell_type": "code",
   "execution_count": 7,
   "metadata": {},
   "outputs": [],
   "source": [
    "from lightgbm import LGBMClassifier\n",
    "from sklearn.ensemble import RandomForestClassifier\n",
    "import xgboost as xgb\n",
    "from sklearn.svm import SVC # SVM\n",
    "from sklearn.model_selection import cross_val_score"
   ]
  },
  {
   "cell_type": "code",
   "execution_count": 8,
   "metadata": {},
   "outputs": [
    {
     "name": "stdout",
     "output_type": "stream",
     "text": [
      "Valores de accuracy de SVM: [0.89749366 0.88945219 0.8933953  0.89240952 0.89029714]\n"
     ]
    }
   ],
   "source": [
    "X, y = filtrado_datos(df_combinado, N=800)\n",
    "SVM_model = SVC(kernel='rbf', gamma='scale', random_state=42, probability=True)\n",
    "scoresSVM = cross_val_score(SVM_model, X, y, cv=5, scoring='accuracy')\n",
    "print('Valores de accuracy de SVM:', scoresSVM)"
   ]
  },
  {
   "cell_type": "code",
   "execution_count": 9,
   "metadata": {},
   "outputs": [
    {
     "name": "stdout",
     "output_type": "stream",
     "text": [
      "Valores de accuracy de RF: [0.93199099 0.93169976 0.93310801 0.93465709 0.93099563]\n"
     ]
    }
   ],
   "source": [
    "X, y =filtrado_datos(df_combinado, N=400)\n",
    "RF_model = RandomForestClassifier(n_estimators=50, criterion='gini', max_depth=None, max_features='sqrt', random_state=42)\n",
    "scoresRF = cross_val_score(RF_model, X, y, cv=5, scoring='accuracy')\n",
    "print('Valores de accuracy de RF:', scoresRF)"
   ]
  },
  {
   "cell_type": "code",
   "execution_count": 10,
   "metadata": {},
   "outputs": [
    {
     "name": "stdout",
     "output_type": "stream",
     "text": [
      "[LightGBM] [Warning] Accuracy may be bad since you didn't explicitly set num_leaves OR 2^max_depth > num_leaves. (num_leaves=31).\n",
      "[LightGBM] [Warning] Accuracy may be bad since you didn't explicitly set num_leaves OR 2^max_depth > num_leaves. (num_leaves=31).\n",
      "[LightGBM] [Info] Number of positive: 14362, number of negative: 14042\n",
      "[LightGBM] [Info] Auto-choosing col-wise multi-threading, the overhead of testing was 1.207516 seconds.\n",
      "You can set `force_col_wise=true` to remove the overhead.\n",
      "[LightGBM] [Info] Total Bins 734400\n",
      "[LightGBM] [Info] Number of data points in the train set: 28404, number of used features: 2880\n",
      "[LightGBM] [Info] [binary:BoostFromScore]: pavg=0.505633 -> initscore=0.022533\n",
      "[LightGBM] [Info] Start training from score 0.022533\n",
      "[LightGBM] [Warning] No further splits with positive gain, best gain: -inf\n",
      "[LightGBM] [Warning] No further splits with positive gain, best gain: -inf\n",
      "[LightGBM] [Warning] No further splits with positive gain, best gain: -inf\n",
      "[LightGBM] [Warning] No further splits with positive gain, best gain: -inf\n",
      "[LightGBM] [Warning] Accuracy may be bad since you didn't explicitly set num_leaves OR 2^max_depth > num_leaves. (num_leaves=31).\n",
      "[LightGBM] [Warning] Accuracy may be bad since you didn't explicitly set num_leaves OR 2^max_depth > num_leaves. (num_leaves=31).\n",
      "[LightGBM] [Warning] Accuracy may be bad since you didn't explicitly set num_leaves OR 2^max_depth > num_leaves. (num_leaves=31).\n",
      "[LightGBM] [Info] Number of positive: 14362, number of negative: 14043\n",
      "[LightGBM] [Info] Auto-choosing col-wise multi-threading, the overhead of testing was 1.090646 seconds.\n",
      "You can set `force_col_wise=true` to remove the overhead.\n",
      "[LightGBM] [Info] Total Bins 734400\n",
      "[LightGBM] [Info] Number of data points in the train set: 28405, number of used features: 2880\n",
      "[LightGBM] [Info] [binary:BoostFromScore]: pavg=0.505615 -> initscore=0.022462\n",
      "[LightGBM] [Info] Start training from score 0.022462\n",
      "[LightGBM] [Warning] No further splits with positive gain, best gain: -inf\n",
      "[LightGBM] [Warning] Accuracy may be bad since you didn't explicitly set num_leaves OR 2^max_depth > num_leaves. (num_leaves=31).\n",
      "[LightGBM] [Warning] Accuracy may be bad since you didn't explicitly set num_leaves OR 2^max_depth > num_leaves. (num_leaves=31).\n",
      "[LightGBM] [Warning] Accuracy may be bad since you didn't explicitly set num_leaves OR 2^max_depth > num_leaves. (num_leaves=31).\n",
      "[LightGBM] [Info] Number of positive: 14362, number of negative: 14043\n",
      "[LightGBM] [Info] Auto-choosing col-wise multi-threading, the overhead of testing was 1.203175 seconds.\n",
      "You can set `force_col_wise=true` to remove the overhead.\n",
      "[LightGBM] [Info] Total Bins 734400\n",
      "[LightGBM] [Info] Number of data points in the train set: 28405, number of used features: 2880\n",
      "[LightGBM] [Info] [binary:BoostFromScore]: pavg=0.505615 -> initscore=0.022462\n",
      "[LightGBM] [Info] Start training from score 0.022462\n",
      "[LightGBM] [Warning] Accuracy may be bad since you didn't explicitly set num_leaves OR 2^max_depth > num_leaves. (num_leaves=31).\n",
      "[LightGBM] [Warning] Accuracy may be bad since you didn't explicitly set num_leaves OR 2^max_depth > num_leaves. (num_leaves=31).\n",
      "[LightGBM] [Warning] Accuracy may be bad since you didn't explicitly set num_leaves OR 2^max_depth > num_leaves. (num_leaves=31).\n",
      "[LightGBM] [Info] Number of positive: 14363, number of negative: 14042\n",
      "[LightGBM] [Info] Auto-choosing col-wise multi-threading, the overhead of testing was 1.067186 seconds.\n",
      "You can set `force_col_wise=true` to remove the overhead.\n",
      "[LightGBM] [Info] Total Bins 734400\n",
      "[LightGBM] [Info] Number of data points in the train set: 28405, number of used features: 2880\n",
      "[LightGBM] [Info] [binary:BoostFromScore]: pavg=0.505650 -> initscore=0.022603\n",
      "[LightGBM] [Info] Start training from score 0.022603\n",
      "[LightGBM] [Warning] No further splits with positive gain, best gain: -inf\n",
      "[LightGBM] [Warning] No further splits with positive gain, best gain: -inf\n",
      "[LightGBM] [Warning] Accuracy may be bad since you didn't explicitly set num_leaves OR 2^max_depth > num_leaves. (num_leaves=31).\n",
      "[LightGBM] [Warning] Accuracy may be bad since you didn't explicitly set num_leaves OR 2^max_depth > num_leaves. (num_leaves=31).\n",
      "[LightGBM] [Warning] Accuracy may be bad since you didn't explicitly set num_leaves OR 2^max_depth > num_leaves. (num_leaves=31).\n",
      "[LightGBM] [Info] Number of positive: 14363, number of negative: 14042\n",
      "[LightGBM] [Info] Auto-choosing col-wise multi-threading, the overhead of testing was 1.121894 seconds.\n",
      "You can set `force_col_wise=true` to remove the overhead.\n",
      "[LightGBM] [Info] Total Bins 734400\n",
      "[LightGBM] [Info] Number of data points in the train set: 28405, number of used features: 2880\n",
      "[LightGBM] [Info] [binary:BoostFromScore]: pavg=0.505650 -> initscore=0.022603\n",
      "[LightGBM] [Info] Start training from score 0.022603\n",
      "[LightGBM] [Warning] No further splits with positive gain, best gain: -inf\n",
      "[LightGBM] [Warning] No further splits with positive gain, best gain: -inf\n",
      "[LightGBM] [Warning] No further splits with positive gain, best gain: -inf\n",
      "[LightGBM] [Warning] No further splits with positive gain, best gain: -inf\n",
      "[LightGBM] [Warning] No further splits with positive gain, best gain: -inf\n",
      "[LightGBM] [Warning] No further splits with positive gain, best gain: -inf\n",
      "[LightGBM] [Warning] Accuracy may be bad since you didn't explicitly set num_leaves OR 2^max_depth > num_leaves. (num_leaves=31).\n",
      "Valores de accuracy de LGBM: [0.94874683 0.94817631 0.95071117 0.95169694 0.94789466]\n"
     ]
    }
   ],
   "source": [
    "from lightgbm import LGBMClassifier\n",
    "from sklearn.model_selection import cross_val_score\n",
    "\n",
    "X, y = filtrado_datos(df_combinado, N=720)\n",
    "\n",
    "# Instantiate the LGBMClassifier\n",
    "LGBM_model = LGBMClassifier(boosting_type='gbdt', max_depth=6, learning_rate=0.3, subsample=1, colsample_bytree=1, random_state=42)\n",
    "\n",
    "# Use the instance of LGBMClassifier in cross_val_score\n",
    "scoresLGBM = cross_val_score(LGBM_model, X, y , cv=5, scoring='accuracy')\n",
    "\n",
    "print('Valores de accuracy de LGBM:', scoresLGBM)\n",
    "\n"
   ]
  },
  {
   "cell_type": "code",
   "execution_count": 11,
   "metadata": {},
   "outputs": [
    {
     "name": "stdout",
     "output_type": "stream",
     "text": [
      "Empieza\n",
      "Valores de accuracy de XGBoost: [0.95114052 0.94817631 0.95085199 0.95282355 0.94803549]\n"
     ]
    }
   ],
   "source": [
    "from xgboost import XGBClassifier\n",
    "params = {\n",
    "    'booster': 'gbtree',\n",
    "    'max_depth': 6,\n",
    "    'gamma': 0,\n",
    "    'learning_rate': 0.3,\n",
    "    'subsample': 1,\n",
    "    'colsample_bytree': 1,\n",
    "    'objective': 'binary:logistic',\n",
    "    'eval_metric': 'logloss',\n",
    "    'seed': 42\n",
    "}\n",
    "\n",
    "X, y =filtrado_datos(df_combinado, N=760)\n",
    "\n",
    "\n",
    "XGB_model = XGBClassifier(**params)\n",
    "\n",
    "\n",
    "print('Empieza')\n",
    "scoresXGB = cross_val_score(XGB_model, X, y, cv=5, scoring='accuracy')\n",
    "\n",
    "\n",
    "print('Valores de accuracy de XGBoost:', scoresXGB)"
   ]
  },
  {
   "cell_type": "code",
   "execution_count": 12,
   "metadata": {},
   "outputs": [],
   "source": [
    "import matplotlib.pyplot as plt\n",
    "\n",
    "\n",
    "def printMetricasScores(scoresLGBM, scoresRF, scoresXBC, scoresSVM, metrica='accuracy'):\n",
    "    plt.figure(figsize=(10, 6))\n",
    "\n",
    "    \n",
    "    plt.plot(scoresLGBM, label='LGBM', marker='_')\n",
    "    plt.plot(scoresRF, label='Random Forest', marker='_')\n",
    "    plt.plot(scoresXBC, label='XBC', marker='_')\n",
    "    plt.plot(scoresSVM, label='SVM', marker='_')\n",
    "\n",
    "    plt.title('Metricas de ' + metrica)  \n",
    "    plt.xlabel('Entrenamiento en CV')\n",
    "    plt.ylabel('Valores de ' + metrica)  \n",
    "    plt.grid(True)\n",
    "    plt.legend()  \n",
    "    plt.show()\n"
   ]
  },
  {
   "cell_type": "code",
   "execution_count": 14,
   "metadata": {},
   "outputs": [
    {
     "data": {
      "image/png": "[encoded data removed]",
      "text/plain": [
       "<Figure size 1000x600 with 1 Axes>"
      ]
     },
     "metadata": {},
     "output_type": "display_data"
    }
   ],
   "source": [
    "printMetricasScores(scoresLGBM, scoresRF, scoresXGB, scoresSVM, metrica='acuracy')"
   ]
  }
 ],
 "metadata": {
  "kernelspec": {
   "display_name": "Python 3 (ipykernel)",
   "language": "python",
   "name": "python3"
  }
 },
 "nbformat": 4,
 "nbformat_minor": 2
}
